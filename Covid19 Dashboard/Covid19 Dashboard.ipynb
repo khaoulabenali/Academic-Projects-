{
 "cells": [
  {
   "cell_type": "markdown",
   "metadata": {},
   "source": [
    "# Covid19 Dashboard"
   ]
  },
  {
   "cell_type": "markdown",
   "metadata": {},
   "source": [
    "### Dependencies"
   ]
  },
  {
   "cell_type": "code",
   "execution_count": 6,
   "metadata": {},
   "outputs": [
    {
     "name": "stdout",
     "output_type": "stream",
     "text": [
      "Collecting dash_bootstrap_components\n",
      "  Downloading dash_bootstrap_components-1.0.2-py3-none-any.whl (209 kB)\n",
      "Requirement already satisfied: dash>=2.0.0 in c:\\users\\khaoula\\anaconda3\\lib\\site-packages (from dash_bootstrap_components) (2.0.0)\n",
      "Requirement already satisfied: dash-core-components==2.0.0 in c:\\users\\khaoula\\anaconda3\\lib\\site-packages (from dash>=2.0.0->dash_bootstrap_components) (2.0.0)\n",
      "Requirement already satisfied: plotly>=5.0.0 in c:\\users\\khaoula\\anaconda3\\lib\\site-packages (from dash>=2.0.0->dash_bootstrap_components) (5.5.0)\n",
      "Requirement already satisfied: flask-compress in c:\\users\\khaoula\\anaconda3\\lib\\site-packages (from dash>=2.0.0->dash_bootstrap_components) (1.10.1)\n",
      "Requirement already satisfied: dash-table==5.0.0 in c:\\users\\khaoula\\anaconda3\\lib\\site-packages (from dash>=2.0.0->dash_bootstrap_components) (5.0.0)\n",
      "Requirement already satisfied: Flask>=1.0.4 in c:\\users\\khaoula\\anaconda3\\lib\\site-packages (from dash>=2.0.0->dash_bootstrap_components) (1.1.2)\n",
      "Requirement already satisfied: dash-html-components==2.0.0 in c:\\users\\khaoula\\anaconda3\\lib\\site-packages (from dash>=2.0.0->dash_bootstrap_components) (2.0.0)\n",
      "Requirement already satisfied: Jinja2>=2.10.1 in c:\\users\\khaoula\\anaconda3\\lib\\site-packages (from Flask>=1.0.4->dash>=2.0.0->dash_bootstrap_components) (2.11.3)\n",
      "Requirement already satisfied: itsdangerous>=0.24 in c:\\users\\khaoula\\anaconda3\\lib\\site-packages (from Flask>=1.0.4->dash>=2.0.0->dash_bootstrap_components) (1.1.0)\n",
      "Requirement already satisfied: Werkzeug>=0.15 in c:\\users\\khaoula\\anaconda3\\lib\\site-packages (from Flask>=1.0.4->dash>=2.0.0->dash_bootstrap_components) (1.0.1)\n",
      "Requirement already satisfied: click>=5.1 in c:\\users\\khaoula\\anaconda3\\lib\\site-packages (from Flask>=1.0.4->dash>=2.0.0->dash_bootstrap_components) (7.1.2)\n",
      "Requirement already satisfied: MarkupSafe>=0.23 in c:\\users\\khaoula\\anaconda3\\lib\\site-packages (from Jinja2>=2.10.1->Flask>=1.0.4->dash>=2.0.0->dash_bootstrap_components) (1.1.1)\n",
      "Requirement already satisfied: six in c:\\users\\khaoula\\anaconda3\\lib\\site-packages (from plotly>=5.0.0->dash>=2.0.0->dash_bootstrap_components) (1.15.0)\n",
      "Requirement already satisfied: tenacity>=6.2.0 in c:\\users\\khaoula\\anaconda3\\lib\\site-packages (from plotly>=5.0.0->dash>=2.0.0->dash_bootstrap_components) (8.0.1)\n",
      "Requirement already satisfied: brotli in c:\\users\\khaoula\\anaconda3\\lib\\site-packages (from flask-compress->dash>=2.0.0->dash_bootstrap_components) (1.0.9)\n",
      "Installing collected packages: dash-bootstrap-components\n",
      "Successfully installed dash-bootstrap-components-1.0.2\n"
     ]
    }
   ],
   "source": [
    "#!pip install pandas\n",
    "#!pip install plotly\n",
    "#!pip install dash\n",
    "!pip install dash_bootstrap_components"
   ]
  },
  {
   "cell_type": "code",
   "execution_count": 48,
   "metadata": {},
   "outputs": [],
   "source": [
    "import pandas as pd\n",
    "pd.set_option('max_rows',20)\n",
    "import plotly.express as px\n",
    "import plotly.io as pio\n",
    "pio.renderers.default = \"browser\""
   ]
  },
  {
   "cell_type": "code",
   "execution_count": 49,
   "metadata": {},
   "outputs": [],
   "source": [
    "import dash\n",
    "from dash.dependencies import Input, Output\n",
    "import dash_core_components as dcc\n",
    "#import dash_html_components as html\n",
    "import dash_bootstrap_components as dbc\n",
    "from dash import html"
   ]
  },
  {
   "cell_type": "markdown",
   "metadata": {},
   "source": [
    "### Get Data"
   ]
  },
  {
   "cell_type": "code",
   "execution_count": 50,
   "metadata": {},
   "outputs": [],
   "source": [
    "CONF_URL = 'https://raw.githubusercontent.com/CSSEGISandData/COVID-19/master/csse_covid_19_data/csse_covid_19_time_series/time_series_covid19_confirmed_global.csv'\n",
    "DEAD_URL = 'https://raw.githubusercontent.com/CSSEGISandData/COVID-19/master/csse_covid_19_data/csse_covid_19_time_series/time_series_covid19_deaths_global.csv'\n",
    "RECV_URL = 'https://raw.githubusercontent.com/CSSEGISandData/COVID-19/master/csse_covid_19_data/csse_covid_19_time_series/time_series_covid19_recovered_global.csv'"
   ]
  },
  {
   "cell_type": "code",
   "execution_count": 51,
   "metadata": {},
   "outputs": [],
   "source": [
    "covid_conf_ts = pd.read_csv(CONF_URL)\n",
    "covid_dead_ts = pd.read_csv(DEAD_URL)\n",
    "covid_recv_ts = pd.read_csv(RECV_URL)"
   ]
  },
  {
   "cell_type": "markdown",
   "metadata": {},
   "source": [
    "### Data Processing"
   ]
  },
  {
   "cell_type": "code",
   "execution_count": 52,
   "metadata": {},
   "outputs": [],
   "source": [
    "#get data in cleaned time series format for country\n",
    "def process_data(data,cntry='Tunisia',window=3):\n",
    "    conf_ts = data\n",
    "    conf_ts_cntry = conf_ts[conf_ts['Country/Region']==cntry]\n",
    "    final_dataset = conf_ts_cntry.T[4:].sum(axis='columns').diff().rolling(window=window).mean()[40:]\n",
    "    df = pd.DataFrame(final_dataset,columns=['Total'])\n",
    "    return df"
   ]
  },
  {
   "cell_type": "code",
   "execution_count": 53,
   "metadata": {},
   "outputs": [
    {
     "name": "stdout",
     "output_type": "stream",
     "text": [
      "Overall Confirmed: 281400646\n",
      "Overall Dead: 5406818\n",
      "Overall Recovered: 0\n"
     ]
    }
   ],
   "source": [
    "#get overall wordlwide total for confirmed, recovered and dead cases\n",
    "def get_overall_total(df):\n",
    "    return df.iloc[:,-1].sum()\n",
    "\n",
    "conf_overall_total = get_overall_total(covid_conf_ts)\n",
    "dead_overall_total = get_overall_total(covid_dead_ts)\n",
    "recv_overall_total = get_overall_total(covid_recv_ts)\n",
    "print('Overall Confirmed:',conf_overall_total)\n",
    "print('Overall Dead:',dead_overall_total)\n",
    "print('Overall Recovered:',recv_overall_total)"
   ]
  },
  {
   "cell_type": "code",
   "execution_count": 54,
   "metadata": {},
   "outputs": [
    {
     "name": "stdout",
     "output_type": "stream",
     "text": [
      "Tunisia Confirmed: 723422\n",
      "Tunisia Dead: 25538\n",
      "Tunisia Recovered: 0\n"
     ]
    }
   ],
   "source": [
    "#get total for confirmed, recovered and dead for country \n",
    "def get_cntry_total(df,cntry='Tunisia'):\n",
    "    return df[df['Country/Region']==cntry].iloc[:,-1].sum()\n",
    "\n",
    "cntry = 'Tunisia'\n",
    "conf_cntry_total = get_cntry_total(covid_conf_ts,cntry)\n",
    "dead_cntry_total = get_cntry_total(covid_dead_ts,cntry)\n",
    "recv_cntry_total = get_cntry_total(covid_recv_ts,cntry)\n",
    "print(f'{cntry} Confirmed:',conf_cntry_total)\n",
    "print(f'{cntry} Dead:',dead_cntry_total)\n",
    "print(f'{cntry} Recovered:',recv_cntry_total)"
   ]
  },
  {
   "cell_type": "markdown",
   "metadata": {},
   "source": [
    "### Generate Line Graph using Plotly"
   ]
  },
  {
   "cell_type": "code",
   "execution_count": 55,
   "metadata": {},
   "outputs": [],
   "source": [
    "def fig_world_trend(cntry='Tunisia',window=3):\n",
    "    df = process_data(data=covid_conf_ts,cntry=cntry,window=window)\n",
    "    df.head(10)\n",
    "    if window==1:\n",
    "        yaxis_title = \"Daily Cases\"\n",
    "    else:\n",
    "        yaxis_title = \"Daily Cases ({}-day MA)\".format(window)\n",
    "    fig = px.line(df, y='Total', x=df.index, title='Daily confirmed cases trend for {}'.format(cntry),height=600,color_discrete_sequence =['maroon'])\n",
    "    fig.update_layout(title_x=0.5,plot_bgcolor='#F2DFCE',paper_bgcolor='#F2DFCE',xaxis_title=\"Date\",yaxis_title=yaxis_title)\n",
    "    return fig"
   ]
  },
  {
   "cell_type": "markdown",
   "metadata": {},
   "source": [
    "## DASH APP"
   ]
  },
  {
   "cell_type": "code",
   "execution_count": 56,
   "metadata": {},
   "outputs": [],
   "source": [
    "external_stylesheets = [dbc.themes.BOOTSTRAP]"
   ]
  },
  {
   "cell_type": "code",
   "execution_count": 57,
   "metadata": {},
   "outputs": [],
   "source": [
    "app = dash.Dash(__name__, external_stylesheets=external_stylesheets)\n",
    "app.title = 'Covid-19 Dashboard'"
   ]
  },
  {
   "cell_type": "markdown",
   "metadata": {},
   "source": [
    "### Page Header"
   ]
  },
  {
   "cell_type": "code",
   "execution_count": 58,
   "metadata": {},
   "outputs": [],
   "source": [
    "colors = {\n",
    "    'background': '#111111',\n",
    "    'bodyColor':'#F2DFCE',\n",
    "    'text': '#7FDBFF'\n",
    "}\n",
    "def get_page_heading_style():\n",
    "    return {'backgroundColor': colors['background']}\n",
    "\n",
    "\n",
    "def get_page_heading_title():\n",
    "    return html.H1(children='COVID-19 Dashboard',\n",
    "                                        style={\n",
    "                                        'textAlign': 'center',\n",
    "                                        'color': colors['text']\n",
    "                                    })\n",
    "\n",
    "def get_page_heading_subtitle():\n",
    "    return html.Div(children='Visualize Covid-19 data generated from sources all over the world.',\n",
    "                                         style={\n",
    "                                             'textAlign':'center',\n",
    "                                             'color':colors['text']\n",
    "                                         })\n",
    "\n",
    "def generate_page_header():\n",
    "    main_header =  dbc.Row(\n",
    "                            [\n",
    "                                dbc.Col(get_page_heading_title(),md=12)\n",
    "                            ],\n",
    "                            align=\"center\",\n",
    "                            style=get_page_heading_style()\n",
    "                        )\n",
    "    subtitle_header = dbc.Row(\n",
    "                            [\n",
    "                                dbc.Col(get_page_heading_subtitle(),md=12)\n",
    "                            ],\n",
    "                            align=\"center\",\n",
    "                            style=get_page_heading_style()\n",
    "                        )\n",
    "    header = (main_header,subtitle_header)\n",
    "    return header"
   ]
  },
  {
   "cell_type": "markdown",
   "metadata": {},
   "source": [
    "### Select Country dropdown"
   ]
  },
  {
   "cell_type": "code",
   "execution_count": 59,
   "metadata": {},
   "outputs": [],
   "source": [
    "def get_country_list():\n",
    "    return covid_conf_ts['Country/Region'].unique()\n",
    "\n",
    "def create_dropdown_list(cntry_list):\n",
    "    dropdown_list = []\n",
    "    for cntry in sorted(cntry_list):\n",
    "        tmp_dict = {'label':cntry,'value':cntry}\n",
    "        dropdown_list.append(tmp_dict)\n",
    "    return dropdown_list\n",
    "\n",
    "def get_country_dropdown(id):\n",
    "    return html.Div([\n",
    "                        html.Label('Select Country'),\n",
    "                        dcc.Dropdown(id='my-id'+str(id),\n",
    "                            options=create_dropdown_list(get_country_list()),\n",
    "                            value='Tunisia'\n",
    "                        ),\n",
    "                        html.Div(id='my-div'+str(id))\n",
    "                    ])"
   ]
  },
  {
   "cell_type": "markdown",
   "metadata": {},
   "source": [
    "### Graph Container for DASH"
   ]
  },
  {
   "cell_type": "code",
   "execution_count": 60,
   "metadata": {},
   "outputs": [],
   "source": [
    "def graph1():\n",
    "    return dcc.Graph(id='graph1',figure=fig_world_trend('Tunisia'))"
   ]
  },
  {
   "cell_type": "markdown",
   "metadata": {},
   "source": [
    "### Generate CARDS for overall numbers"
   ]
  },
  {
   "cell_type": "code",
   "execution_count": 61,
   "metadata": {},
   "outputs": [],
   "source": [
    "def generate_card_content(card_header,card_value,overall_value):\n",
    "    card_head_style = {'textAlign':'center','fontSize':'150%'}\n",
    "    card_body_style = {'textAlign':'center','fontSize':'200%'}\n",
    "    card_header = dbc.CardHeader(card_header,style=card_head_style)\n",
    "    card_body = dbc.CardBody(\n",
    "        [\n",
    "            html.H5(f\"{int(card_value):,}\", className=\"card-title\",style=card_body_style),\n",
    "            html.P(\n",
    "                \"Worlwide: {:,}\".format(overall_value),\n",
    "                className=\"card-text\",style={'textAlign':'center'}\n",
    "            ),\n",
    "        ]\n",
    "    )\n",
    "    card = [card_header,card_body]\n",
    "    return card"
   ]
  },
  {
   "cell_type": "code",
   "execution_count": 62,
   "metadata": {},
   "outputs": [],
   "source": [
    "def generate_cards(cntry='Tunisia'):\n",
    "    conf_cntry_total = get_cntry_total(covid_conf_ts,cntry)\n",
    "    dead_cntry_total = get_cntry_total(covid_dead_ts,cntry)\n",
    "    recv_cntry_total = get_cntry_total(covid_recv_ts,cntry)\n",
    "    cards = html.Div(\n",
    "        [\n",
    "            dbc.Row(\n",
    "                [\n",
    "                    dbc.Col(dbc.Card(generate_card_content(\"Recovered\",recv_cntry_total,recv_overall_total), color=\"success\", inverse=True),md=dict(size=2,offset=3)),\n",
    "                    dbc.Col(dbc.Card(generate_card_content(\"Confirmed\",conf_cntry_total,conf_overall_total), color=\"warning\", inverse=True),md=dict(size=2)),\n",
    "                    dbc.Col(dbc.Card(generate_card_content(\"Dead\",dead_cntry_total,dead_overall_total),color=\"dark\", inverse=True),md=dict(size=2)),\n",
    "                ],\n",
    "                className=\"mb-4\",\n",
    "            ),\n",
    "        ],id='card1'\n",
    "    )\n",
    "    return cards"
   ]
  },
  {
   "cell_type": "markdown",
   "metadata": {},
   "source": [
    "### DASH Slider for Moving Average Window"
   ]
  },
  {
   "cell_type": "code",
   "execution_count": 63,
   "metadata": {},
   "outputs": [],
   "source": [
    "def get_slider():\n",
    "    return html.Div([  \n",
    "                        dcc.Slider(\n",
    "                            id='my-slider',\n",
    "                            min=1,\n",
    "                            max=15,\n",
    "                            step=None,\n",
    "                            marks={\n",
    "                                1: '1',\n",
    "                                3: '3',\n",
    "                                5: '5',\n",
    "                                7: '1-Week',\n",
    "                                14: 'Fortnight'\n",
    "                            },\n",
    "                            value=3,\n",
    "                        ),\n",
    "                        html.Div([html.Label('Select Moving Average Window')],id='my-div'+str(id),style={'textAlign':'center'})\n",
    "                    ])"
   ]
  },
  {
   "cell_type": "markdown",
   "metadata": {},
   "source": [
    "### Generate APP layout"
   ]
  },
  {
   "cell_type": "code",
   "execution_count": 64,
   "metadata": {},
   "outputs": [],
   "source": [
    "def generate_layout():\n",
    "    page_header = generate_page_header()\n",
    "    layout = dbc.Container(\n",
    "        [\n",
    "            page_header[0],\n",
    "            page_header[1],\n",
    "            html.Hr(),\n",
    "            generate_cards(),\n",
    "            html.Hr(),\n",
    "            dbc.Row(\n",
    "                [\n",
    "                    dbc.Col(get_country_dropdown(id=1),md=dict(size=4,offset=4))                    \n",
    "                ]\n",
    "            \n",
    "            ),\n",
    "            dbc.Row(\n",
    "                [                \n",
    "                    \n",
    "                    dbc.Col(graph1(),md=dict(size=6,offset=3))\n",
    "        \n",
    "                ],\n",
    "                align=\"center\",\n",
    "\n",
    "            ),\n",
    "            dbc.Row(\n",
    "                [\n",
    "                    dbc.Col(get_slider(),md=dict(size=4,offset=4))                    \n",
    "                ]\n",
    "            \n",
    "            ),\n",
    "        ],fluid=True,style={'backgroundColor': colors['bodyColor']}\n",
    "    )\n",
    "    return layout"
   ]
  },
  {
   "cell_type": "code",
   "execution_count": 65,
   "metadata": {},
   "outputs": [],
   "source": [
    "app.layout = generate_layout()"
   ]
  },
  {
   "cell_type": "markdown",
   "metadata": {},
   "source": [
    "### Assign DASH Callbacks"
   ]
  },
  {
   "cell_type": "code",
   "execution_count": 66,
   "metadata": {},
   "outputs": [],
   "source": [
    "@app.callback(\n",
    "    [Output(component_id='graph1',component_property='figure'), #line chart\n",
    "    Output(component_id='card1',component_property='children')], #overall card numbers\n",
    "    [Input(component_id='my-id1',component_property='value'), #dropdown\n",
    "     Input(component_id='my-slider',component_property='value')] #slider\n",
    ")\n",
    "def update_output_div(input_value1,input_value2):\n",
    "    return fig_world_trend(input_value1,input_value2),generate_cards(input_value1)"
   ]
  },
  {
   "cell_type": "markdown",
   "metadata": {},
   "source": [
    "## RUN the app server"
   ]
  },
  {
   "cell_type": "code",
   "execution_count": null,
   "metadata": {},
   "outputs": [],
   "source": [
    "if __name__ == '__main__':\n",
    "    app.run_server(debug=True)"
   ]
  },
  {
   "cell_type": "code",
   "execution_count": null,
   "metadata": {},
   "outputs": [],
   "source": []
  }
 ],
 "metadata": {
  "kernelspec": {
   "display_name": "Python 3",
   "language": "python",
   "name": "python3"
  },
  "language_info": {
   "codemirror_mode": {
    "name": "ipython",
    "version": 3
   },
   "file_extension": ".py",
   "mimetype": "text/x-python",
   "name": "python",
   "nbconvert_exporter": "python",
   "pygments_lexer": "ipython3",
   "version": "3.8.8"
  }
 },
 "nbformat": 4,
 "nbformat_minor": 4
}
