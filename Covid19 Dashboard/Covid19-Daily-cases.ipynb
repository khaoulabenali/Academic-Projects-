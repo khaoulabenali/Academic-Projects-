{
 "cells": [
  {
   "cell_type": "markdown",
   "metadata": {},
   "source": [
    "# Daily Cases Trend for COVID19 data"
   ]
  },
  {
   "cell_type": "markdown",
   "metadata": {},
   "source": [
    "## Visualizing the trend of daily cases for specific country"
   ]
  },
  {
   "cell_type": "markdown",
   "metadata": {},
   "source": [
    "**1. Installing necessary Dependencies**"
   ]
  },
  {
   "cell_type": "code",
   "execution_count": 1,
   "metadata": {},
   "outputs": [],
   "source": [
    "import pandas as pd\n",
    "pd.set_option('max_rows',20)\n",
    "import plotly.express as px\n",
    "import plotly.io as pio\n",
    "#print(pio.renderers)\n",
    "# pio.renderers.default = \"browser\"\n",
    "import matplotlib.pyplot as plt"
   ]
  },
  {
   "cell_type": "code",
   "execution_count": 2,
   "metadata": {},
   "outputs": [],
   "source": [
    "CONFIRMED_URL = 'https://raw.githubusercontent.com/CSSEGISandData/COVID-19/master/csse_covid_19_data/csse_covid_19_time_series/time_series_covid19_confirmed_global.csv'\n",
    "RECOVERED_URL = 'https://raw.githubusercontent.com/CSSEGISandData/COVID-19/master/csse_covid_19_data/csse_covid_19_time_series/time_series_covid19_recovered_global.csv'\n",
    "DEAD_URL = 'https://raw.githubusercontent.com/CSSEGISandData/COVID-19/master/csse_covid_19_data/csse_covid_19_time_series/time_series_covid19_deaths_global.csv'"
   ]
  },
  {
   "cell_type": "markdown",
   "metadata": {},
   "source": [
    "**2. Getting the data into dataframes**"
   ]
  },
  {
   "cell_type": "code",
   "execution_count": 3,
   "metadata": {},
   "outputs": [],
   "source": [
    "covid_confirmed_ts = pd.read_csv(CONFIRMED_URL)\n",
    "covid_recovered_ts = pd.read_csv(RECOVERED_URL)\n",
    "covid_dead_ts = pd.read_csv(DEAD_URL)"
   ]
  },
  {
   "cell_type": "code",
   "execution_count": 4,
   "metadata": {},
   "outputs": [
    {
     "data": {
      "text/html": [
       "<div>\n",
       "<style scoped>\n",
       "    .dataframe tbody tr th:only-of-type {\n",
       "        vertical-align: middle;\n",
       "    }\n",
       "\n",
       "    .dataframe tbody tr th {\n",
       "        vertical-align: top;\n",
       "    }\n",
       "\n",
       "    .dataframe thead th {\n",
       "        text-align: right;\n",
       "    }\n",
       "</style>\n",
       "<table border=\"1\" class=\"dataframe\">\n",
       "  <thead>\n",
       "    <tr style=\"text-align: right;\">\n",
       "      <th></th>\n",
       "      <th>Province/State</th>\n",
       "      <th>Country/Region</th>\n",
       "      <th>Lat</th>\n",
       "      <th>Long</th>\n",
       "      <th>1/22/20</th>\n",
       "      <th>1/23/20</th>\n",
       "      <th>1/24/20</th>\n",
       "      <th>1/25/20</th>\n",
       "      <th>1/26/20</th>\n",
       "      <th>1/27/20</th>\n",
       "      <th>...</th>\n",
       "      <th>12/18/21</th>\n",
       "      <th>12/19/21</th>\n",
       "      <th>12/20/21</th>\n",
       "      <th>12/21/21</th>\n",
       "      <th>12/22/21</th>\n",
       "      <th>12/23/21</th>\n",
       "      <th>12/24/21</th>\n",
       "      <th>12/25/21</th>\n",
       "      <th>12/26/21</th>\n",
       "      <th>12/27/21</th>\n",
       "    </tr>\n",
       "  </thead>\n",
       "  <tbody>\n",
       "    <tr>\n",
       "      <th>0</th>\n",
       "      <td>NaN</td>\n",
       "      <td>Afghanistan</td>\n",
       "      <td>33.93911</td>\n",
       "      <td>67.709953</td>\n",
       "      <td>0</td>\n",
       "      <td>0</td>\n",
       "      <td>0</td>\n",
       "      <td>0</td>\n",
       "      <td>0</td>\n",
       "      <td>0</td>\n",
       "      <td>...</td>\n",
       "      <td>157745</td>\n",
       "      <td>157787</td>\n",
       "      <td>157797</td>\n",
       "      <td>157816</td>\n",
       "      <td>157841</td>\n",
       "      <td>157878</td>\n",
       "      <td>157887</td>\n",
       "      <td>157895</td>\n",
       "      <td>157951</td>\n",
       "      <td>157967</td>\n",
       "    </tr>\n",
       "    <tr>\n",
       "      <th>1</th>\n",
       "      <td>NaN</td>\n",
       "      <td>Albania</td>\n",
       "      <td>41.15330</td>\n",
       "      <td>20.168300</td>\n",
       "      <td>0</td>\n",
       "      <td>0</td>\n",
       "      <td>0</td>\n",
       "      <td>0</td>\n",
       "      <td>0</td>\n",
       "      <td>0</td>\n",
       "      <td>...</td>\n",
       "      <td>205549</td>\n",
       "      <td>205777</td>\n",
       "      <td>205897</td>\n",
       "      <td>206273</td>\n",
       "      <td>206616</td>\n",
       "      <td>206935</td>\n",
       "      <td>207221</td>\n",
       "      <td>207542</td>\n",
       "      <td>207709</td>\n",
       "      <td>207709</td>\n",
       "    </tr>\n",
       "    <tr>\n",
       "      <th>2</th>\n",
       "      <td>NaN</td>\n",
       "      <td>Algeria</td>\n",
       "      <td>28.03390</td>\n",
       "      <td>1.659600</td>\n",
       "      <td>0</td>\n",
       "      <td>0</td>\n",
       "      <td>0</td>\n",
       "      <td>0</td>\n",
       "      <td>0</td>\n",
       "      <td>0</td>\n",
       "      <td>...</td>\n",
       "      <td>214330</td>\n",
       "      <td>214592</td>\n",
       "      <td>214835</td>\n",
       "      <td>215145</td>\n",
       "      <td>215430</td>\n",
       "      <td>215723</td>\n",
       "      <td>216098</td>\n",
       "      <td>216376</td>\n",
       "      <td>216637</td>\n",
       "      <td>216930</td>\n",
       "    </tr>\n",
       "    <tr>\n",
       "      <th>3</th>\n",
       "      <td>NaN</td>\n",
       "      <td>Andorra</td>\n",
       "      <td>42.50630</td>\n",
       "      <td>1.521800</td>\n",
       "      <td>0</td>\n",
       "      <td>0</td>\n",
       "      <td>0</td>\n",
       "      <td>0</td>\n",
       "      <td>0</td>\n",
       "      <td>0</td>\n",
       "      <td>...</td>\n",
       "      <td>20549</td>\n",
       "      <td>20549</td>\n",
       "      <td>21062</td>\n",
       "      <td>21062</td>\n",
       "      <td>21372</td>\n",
       "      <td>21571</td>\n",
       "      <td>21730</td>\n",
       "      <td>21730</td>\n",
       "      <td>21730</td>\n",
       "      <td>22332</td>\n",
       "    </tr>\n",
       "    <tr>\n",
       "      <th>4</th>\n",
       "      <td>NaN</td>\n",
       "      <td>Angola</td>\n",
       "      <td>-11.20270</td>\n",
       "      <td>17.873900</td>\n",
       "      <td>0</td>\n",
       "      <td>0</td>\n",
       "      <td>0</td>\n",
       "      <td>0</td>\n",
       "      <td>0</td>\n",
       "      <td>0</td>\n",
       "      <td>...</td>\n",
       "      <td>65868</td>\n",
       "      <td>65938</td>\n",
       "      <td>66086</td>\n",
       "      <td>66566</td>\n",
       "      <td>67199</td>\n",
       "      <td>68362</td>\n",
       "      <td>70221</td>\n",
       "      <td>71142</td>\n",
       "      <td>71752</td>\n",
       "      <td>71752</td>\n",
       "    </tr>\n",
       "  </tbody>\n",
       "</table>\n",
       "<p>5 rows × 710 columns</p>\n",
       "</div>"
      ],
      "text/plain": [
       "  Province/State Country/Region       Lat       Long  1/22/20  1/23/20  \\\n",
       "0            NaN    Afghanistan  33.93911  67.709953        0        0   \n",
       "1            NaN        Albania  41.15330  20.168300        0        0   \n",
       "2            NaN        Algeria  28.03390   1.659600        0        0   \n",
       "3            NaN        Andorra  42.50630   1.521800        0        0   \n",
       "4            NaN         Angola -11.20270  17.873900        0        0   \n",
       "\n",
       "   1/24/20  1/25/20  1/26/20  1/27/20  ...  12/18/21  12/19/21  12/20/21  \\\n",
       "0        0        0        0        0  ...    157745    157787    157797   \n",
       "1        0        0        0        0  ...    205549    205777    205897   \n",
       "2        0        0        0        0  ...    214330    214592    214835   \n",
       "3        0        0        0        0  ...     20549     20549     21062   \n",
       "4        0        0        0        0  ...     65868     65938     66086   \n",
       "\n",
       "   12/21/21  12/22/21  12/23/21  12/24/21  12/25/21  12/26/21  12/27/21  \n",
       "0    157816    157841    157878    157887    157895    157951    157967  \n",
       "1    206273    206616    206935    207221    207542    207709    207709  \n",
       "2    215145    215430    215723    216098    216376    216637    216930  \n",
       "3     21062     21372     21571     21730     21730     21730     22332  \n",
       "4     66566     67199     68362     70221     71142     71752     71752  \n",
       "\n",
       "[5 rows x 710 columns]"
      ]
     },
     "execution_count": 4,
     "metadata": {},
     "output_type": "execute_result"
    }
   ],
   "source": [
    "conf_ts = covid_confirmed_ts\n",
    "conf_ts.head()"
   ]
  },
  {
   "cell_type": "markdown",
   "metadata": {},
   "source": [
    "**3. Filtering Data for a specific country**"
   ]
  },
  {
   "cell_type": "code",
   "execution_count": 5,
   "metadata": {},
   "outputs": [
    {
     "data": {
      "text/html": [
       "<div>\n",
       "<style scoped>\n",
       "    .dataframe tbody tr th:only-of-type {\n",
       "        vertical-align: middle;\n",
       "    }\n",
       "\n",
       "    .dataframe tbody tr th {\n",
       "        vertical-align: top;\n",
       "    }\n",
       "\n",
       "    .dataframe thead th {\n",
       "        text-align: right;\n",
       "    }\n",
       "</style>\n",
       "<table border=\"1\" class=\"dataframe\">\n",
       "  <thead>\n",
       "    <tr style=\"text-align: right;\">\n",
       "      <th></th>\n",
       "      <th>Province/State</th>\n",
       "      <th>Country/Region</th>\n",
       "      <th>Lat</th>\n",
       "      <th>Long</th>\n",
       "      <th>1/22/20</th>\n",
       "      <th>1/23/20</th>\n",
       "      <th>1/24/20</th>\n",
       "      <th>1/25/20</th>\n",
       "      <th>1/26/20</th>\n",
       "      <th>1/27/20</th>\n",
       "      <th>...</th>\n",
       "      <th>12/18/21</th>\n",
       "      <th>12/19/21</th>\n",
       "      <th>12/20/21</th>\n",
       "      <th>12/21/21</th>\n",
       "      <th>12/22/21</th>\n",
       "      <th>12/23/21</th>\n",
       "      <th>12/24/21</th>\n",
       "      <th>12/25/21</th>\n",
       "      <th>12/26/21</th>\n",
       "      <th>12/27/21</th>\n",
       "    </tr>\n",
       "  </thead>\n",
       "  <tbody>\n",
       "    <tr>\n",
       "      <th>259</th>\n",
       "      <td>Anguilla</td>\n",
       "      <td>United Kingdom</td>\n",
       "      <td>18.220600</td>\n",
       "      <td>-63.068600</td>\n",
       "      <td>0</td>\n",
       "      <td>0</td>\n",
       "      <td>0</td>\n",
       "      <td>0</td>\n",
       "      <td>0</td>\n",
       "      <td>0</td>\n",
       "      <td>...</td>\n",
       "      <td>1592</td>\n",
       "      <td>1592</td>\n",
       "      <td>1629</td>\n",
       "      <td>1629</td>\n",
       "      <td>1629</td>\n",
       "      <td>1629</td>\n",
       "      <td>1646</td>\n",
       "      <td>1646</td>\n",
       "      <td>1646</td>\n",
       "      <td>1646</td>\n",
       "    </tr>\n",
       "    <tr>\n",
       "      <th>260</th>\n",
       "      <td>Bermuda</td>\n",
       "      <td>United Kingdom</td>\n",
       "      <td>32.307800</td>\n",
       "      <td>-64.750500</td>\n",
       "      <td>0</td>\n",
       "      <td>0</td>\n",
       "      <td>0</td>\n",
       "      <td>0</td>\n",
       "      <td>0</td>\n",
       "      <td>0</td>\n",
       "      <td>...</td>\n",
       "      <td>5815</td>\n",
       "      <td>5815</td>\n",
       "      <td>5917</td>\n",
       "      <td>5917</td>\n",
       "      <td>5917</td>\n",
       "      <td>6014</td>\n",
       "      <td>6014</td>\n",
       "      <td>6014</td>\n",
       "      <td>6014</td>\n",
       "      <td>6014</td>\n",
       "    </tr>\n",
       "    <tr>\n",
       "      <th>261</th>\n",
       "      <td>British Virgin Islands</td>\n",
       "      <td>United Kingdom</td>\n",
       "      <td>18.420700</td>\n",
       "      <td>-64.640000</td>\n",
       "      <td>0</td>\n",
       "      <td>0</td>\n",
       "      <td>0</td>\n",
       "      <td>0</td>\n",
       "      <td>0</td>\n",
       "      <td>0</td>\n",
       "      <td>...</td>\n",
       "      <td>2886</td>\n",
       "      <td>2886</td>\n",
       "      <td>2886</td>\n",
       "      <td>2886</td>\n",
       "      <td>2886</td>\n",
       "      <td>3016</td>\n",
       "      <td>3016</td>\n",
       "      <td>3016</td>\n",
       "      <td>3016</td>\n",
       "      <td>3071</td>\n",
       "    </tr>\n",
       "    <tr>\n",
       "      <th>262</th>\n",
       "      <td>Cayman Islands</td>\n",
       "      <td>United Kingdom</td>\n",
       "      <td>19.313300</td>\n",
       "      <td>-81.254600</td>\n",
       "      <td>0</td>\n",
       "      <td>0</td>\n",
       "      <td>0</td>\n",
       "      <td>0</td>\n",
       "      <td>0</td>\n",
       "      <td>0</td>\n",
       "      <td>...</td>\n",
       "      <td>8097</td>\n",
       "      <td>8097</td>\n",
       "      <td>8097</td>\n",
       "      <td>8245</td>\n",
       "      <td>8245</td>\n",
       "      <td>8386</td>\n",
       "      <td>8386</td>\n",
       "      <td>8386</td>\n",
       "      <td>8386</td>\n",
       "      <td>8386</td>\n",
       "    </tr>\n",
       "    <tr>\n",
       "      <th>263</th>\n",
       "      <td>Channel Islands</td>\n",
       "      <td>United Kingdom</td>\n",
       "      <td>49.372300</td>\n",
       "      <td>-2.364400</td>\n",
       "      <td>0</td>\n",
       "      <td>0</td>\n",
       "      <td>0</td>\n",
       "      <td>0</td>\n",
       "      <td>0</td>\n",
       "      <td>0</td>\n",
       "      <td>...</td>\n",
       "      <td>21667</td>\n",
       "      <td>21667</td>\n",
       "      <td>22304</td>\n",
       "      <td>22580</td>\n",
       "      <td>22876</td>\n",
       "      <td>23188</td>\n",
       "      <td>23627</td>\n",
       "      <td>23627</td>\n",
       "      <td>23627</td>\n",
       "      <td>23627</td>\n",
       "    </tr>\n",
       "    <tr>\n",
       "      <th>264</th>\n",
       "      <td>Falkland Islands (Malvinas)</td>\n",
       "      <td>United Kingdom</td>\n",
       "      <td>-51.796300</td>\n",
       "      <td>-59.523600</td>\n",
       "      <td>0</td>\n",
       "      <td>0</td>\n",
       "      <td>0</td>\n",
       "      <td>0</td>\n",
       "      <td>0</td>\n",
       "      <td>0</td>\n",
       "      <td>...</td>\n",
       "      <td>83</td>\n",
       "      <td>83</td>\n",
       "      <td>83</td>\n",
       "      <td>83</td>\n",
       "      <td>83</td>\n",
       "      <td>83</td>\n",
       "      <td>83</td>\n",
       "      <td>83</td>\n",
       "      <td>83</td>\n",
       "      <td>83</td>\n",
       "    </tr>\n",
       "    <tr>\n",
       "      <th>265</th>\n",
       "      <td>Gibraltar</td>\n",
       "      <td>United Kingdom</td>\n",
       "      <td>36.140800</td>\n",
       "      <td>-5.353600</td>\n",
       "      <td>0</td>\n",
       "      <td>0</td>\n",
       "      <td>0</td>\n",
       "      <td>0</td>\n",
       "      <td>0</td>\n",
       "      <td>0</td>\n",
       "      <td>...</td>\n",
       "      <td>7778</td>\n",
       "      <td>7822</td>\n",
       "      <td>7843</td>\n",
       "      <td>7902</td>\n",
       "      <td>7954</td>\n",
       "      <td>8014</td>\n",
       "      <td>8084</td>\n",
       "      <td>8142</td>\n",
       "      <td>8142</td>\n",
       "      <td>8220</td>\n",
       "    </tr>\n",
       "    <tr>\n",
       "      <th>266</th>\n",
       "      <td>Isle of Man</td>\n",
       "      <td>United Kingdom</td>\n",
       "      <td>54.236100</td>\n",
       "      <td>-4.548100</td>\n",
       "      <td>0</td>\n",
       "      <td>0</td>\n",
       "      <td>0</td>\n",
       "      <td>0</td>\n",
       "      <td>0</td>\n",
       "      <td>0</td>\n",
       "      <td>...</td>\n",
       "      <td>13037</td>\n",
       "      <td>13097</td>\n",
       "      <td>13154</td>\n",
       "      <td>13258</td>\n",
       "      <td>13364</td>\n",
       "      <td>13401</td>\n",
       "      <td>13425</td>\n",
       "      <td>13438</td>\n",
       "      <td>13438</td>\n",
       "      <td>13451</td>\n",
       "    </tr>\n",
       "    <tr>\n",
       "      <th>267</th>\n",
       "      <td>Montserrat</td>\n",
       "      <td>United Kingdom</td>\n",
       "      <td>16.742498</td>\n",
       "      <td>-62.187366</td>\n",
       "      <td>0</td>\n",
       "      <td>0</td>\n",
       "      <td>0</td>\n",
       "      <td>0</td>\n",
       "      <td>0</td>\n",
       "      <td>0</td>\n",
       "      <td>...</td>\n",
       "      <td>44</td>\n",
       "      <td>44</td>\n",
       "      <td>45</td>\n",
       "      <td>45</td>\n",
       "      <td>45</td>\n",
       "      <td>45</td>\n",
       "      <td>45</td>\n",
       "      <td>45</td>\n",
       "      <td>45</td>\n",
       "      <td>45</td>\n",
       "    </tr>\n",
       "    <tr>\n",
       "      <th>268</th>\n",
       "      <td>Saint Helena, Ascension and Tristan da Cunha</td>\n",
       "      <td>United Kingdom</td>\n",
       "      <td>-7.946700</td>\n",
       "      <td>-14.355900</td>\n",
       "      <td>0</td>\n",
       "      <td>0</td>\n",
       "      <td>0</td>\n",
       "      <td>0</td>\n",
       "      <td>0</td>\n",
       "      <td>0</td>\n",
       "      <td>...</td>\n",
       "      <td>4</td>\n",
       "      <td>4</td>\n",
       "      <td>4</td>\n",
       "      <td>4</td>\n",
       "      <td>4</td>\n",
       "      <td>4</td>\n",
       "      <td>4</td>\n",
       "      <td>4</td>\n",
       "      <td>4</td>\n",
       "      <td>4</td>\n",
       "    </tr>\n",
       "  </tbody>\n",
       "</table>\n",
       "<p>10 rows × 710 columns</p>\n",
       "</div>"
      ],
      "text/plain": [
       "                                   Province/State  Country/Region        Lat  \\\n",
       "259                                      Anguilla  United Kingdom  18.220600   \n",
       "260                                       Bermuda  United Kingdom  32.307800   \n",
       "261                        British Virgin Islands  United Kingdom  18.420700   \n",
       "262                                Cayman Islands  United Kingdom  19.313300   \n",
       "263                               Channel Islands  United Kingdom  49.372300   \n",
       "264                   Falkland Islands (Malvinas)  United Kingdom -51.796300   \n",
       "265                                     Gibraltar  United Kingdom  36.140800   \n",
       "266                                   Isle of Man  United Kingdom  54.236100   \n",
       "267                                    Montserrat  United Kingdom  16.742498   \n",
       "268  Saint Helena, Ascension and Tristan da Cunha  United Kingdom  -7.946700   \n",
       "\n",
       "          Long  1/22/20  1/23/20  1/24/20  1/25/20  1/26/20  1/27/20  ...  \\\n",
       "259 -63.068600        0        0        0        0        0        0  ...   \n",
       "260 -64.750500        0        0        0        0        0        0  ...   \n",
       "261 -64.640000        0        0        0        0        0        0  ...   \n",
       "262 -81.254600        0        0        0        0        0        0  ...   \n",
       "263  -2.364400        0        0        0        0        0        0  ...   \n",
       "264 -59.523600        0        0        0        0        0        0  ...   \n",
       "265  -5.353600        0        0        0        0        0        0  ...   \n",
       "266  -4.548100        0        0        0        0        0        0  ...   \n",
       "267 -62.187366        0        0        0        0        0        0  ...   \n",
       "268 -14.355900        0        0        0        0        0        0  ...   \n",
       "\n",
       "     12/18/21  12/19/21  12/20/21  12/21/21  12/22/21  12/23/21  12/24/21  \\\n",
       "259      1592      1592      1629      1629      1629      1629      1646   \n",
       "260      5815      5815      5917      5917      5917      6014      6014   \n",
       "261      2886      2886      2886      2886      2886      3016      3016   \n",
       "262      8097      8097      8097      8245      8245      8386      8386   \n",
       "263     21667     21667     22304     22580     22876     23188     23627   \n",
       "264        83        83        83        83        83        83        83   \n",
       "265      7778      7822      7843      7902      7954      8014      8084   \n",
       "266     13037     13097     13154     13258     13364     13401     13425   \n",
       "267        44        44        45        45        45        45        45   \n",
       "268         4         4         4         4         4         4         4   \n",
       "\n",
       "     12/25/21  12/26/21  12/27/21  \n",
       "259      1646      1646      1646  \n",
       "260      6014      6014      6014  \n",
       "261      3016      3016      3071  \n",
       "262      8386      8386      8386  \n",
       "263     23627     23627     23627  \n",
       "264        83        83        83  \n",
       "265      8142      8142      8220  \n",
       "266     13438     13438     13451  \n",
       "267        45        45        45  \n",
       "268         4         4         4  \n",
       "\n",
       "[10 rows x 710 columns]"
      ]
     },
     "execution_count": 5,
     "metadata": {},
     "output_type": "execute_result"
    }
   ],
   "source": [
    "conf_ts_cntry = conf_ts[conf_ts['Country/Region']=='United Kingdom']\n",
    "conf_ts_cntry.head(10)"
   ]
  },
  {
   "cell_type": "markdown",
   "metadata": {},
   "source": [
    "**4. Transposing the time series**"
   ]
  },
  {
   "cell_type": "code",
   "execution_count": 6,
   "metadata": {},
   "outputs": [
    {
     "data": {
      "text/html": [
       "<div>\n",
       "<style scoped>\n",
       "    .dataframe tbody tr th:only-of-type {\n",
       "        vertical-align: middle;\n",
       "    }\n",
       "\n",
       "    .dataframe tbody tr th {\n",
       "        vertical-align: top;\n",
       "    }\n",
       "\n",
       "    .dataframe thead th {\n",
       "        text-align: right;\n",
       "    }\n",
       "</style>\n",
       "<table border=\"1\" class=\"dataframe\">\n",
       "  <thead>\n",
       "    <tr style=\"text-align: right;\">\n",
       "      <th></th>\n",
       "      <th>259</th>\n",
       "      <th>260</th>\n",
       "      <th>261</th>\n",
       "      <th>262</th>\n",
       "      <th>263</th>\n",
       "      <th>264</th>\n",
       "      <th>265</th>\n",
       "      <th>266</th>\n",
       "      <th>267</th>\n",
       "      <th>268</th>\n",
       "      <th>269</th>\n",
       "      <th>270</th>\n",
       "    </tr>\n",
       "  </thead>\n",
       "  <tbody>\n",
       "    <tr>\n",
       "      <th>1/22/20</th>\n",
       "      <td>0</td>\n",
       "      <td>0</td>\n",
       "      <td>0</td>\n",
       "      <td>0</td>\n",
       "      <td>0</td>\n",
       "      <td>0</td>\n",
       "      <td>0</td>\n",
       "      <td>0</td>\n",
       "      <td>0</td>\n",
       "      <td>0</td>\n",
       "      <td>0</td>\n",
       "      <td>0</td>\n",
       "    </tr>\n",
       "    <tr>\n",
       "      <th>1/23/20</th>\n",
       "      <td>0</td>\n",
       "      <td>0</td>\n",
       "      <td>0</td>\n",
       "      <td>0</td>\n",
       "      <td>0</td>\n",
       "      <td>0</td>\n",
       "      <td>0</td>\n",
       "      <td>0</td>\n",
       "      <td>0</td>\n",
       "      <td>0</td>\n",
       "      <td>0</td>\n",
       "      <td>0</td>\n",
       "    </tr>\n",
       "    <tr>\n",
       "      <th>1/24/20</th>\n",
       "      <td>0</td>\n",
       "      <td>0</td>\n",
       "      <td>0</td>\n",
       "      <td>0</td>\n",
       "      <td>0</td>\n",
       "      <td>0</td>\n",
       "      <td>0</td>\n",
       "      <td>0</td>\n",
       "      <td>0</td>\n",
       "      <td>0</td>\n",
       "      <td>0</td>\n",
       "      <td>0</td>\n",
       "    </tr>\n",
       "    <tr>\n",
       "      <th>1/25/20</th>\n",
       "      <td>0</td>\n",
       "      <td>0</td>\n",
       "      <td>0</td>\n",
       "      <td>0</td>\n",
       "      <td>0</td>\n",
       "      <td>0</td>\n",
       "      <td>0</td>\n",
       "      <td>0</td>\n",
       "      <td>0</td>\n",
       "      <td>0</td>\n",
       "      <td>0</td>\n",
       "      <td>0</td>\n",
       "    </tr>\n",
       "    <tr>\n",
       "      <th>1/26/20</th>\n",
       "      <td>0</td>\n",
       "      <td>0</td>\n",
       "      <td>0</td>\n",
       "      <td>0</td>\n",
       "      <td>0</td>\n",
       "      <td>0</td>\n",
       "      <td>0</td>\n",
       "      <td>0</td>\n",
       "      <td>0</td>\n",
       "      <td>0</td>\n",
       "      <td>0</td>\n",
       "      <td>0</td>\n",
       "    </tr>\n",
       "    <tr>\n",
       "      <th>...</th>\n",
       "      <td>...</td>\n",
       "      <td>...</td>\n",
       "      <td>...</td>\n",
       "      <td>...</td>\n",
       "      <td>...</td>\n",
       "      <td>...</td>\n",
       "      <td>...</td>\n",
       "      <td>...</td>\n",
       "      <td>...</td>\n",
       "      <td>...</td>\n",
       "      <td>...</td>\n",
       "      <td>...</td>\n",
       "    </tr>\n",
       "    <tr>\n",
       "      <th>12/23/21</th>\n",
       "      <td>1629</td>\n",
       "      <td>6014</td>\n",
       "      <td>3016</td>\n",
       "      <td>8386</td>\n",
       "      <td>23188</td>\n",
       "      <td>83</td>\n",
       "      <td>8014</td>\n",
       "      <td>13401</td>\n",
       "      <td>45</td>\n",
       "      <td>4</td>\n",
       "      <td>3208</td>\n",
       "      <td>11769921</td>\n",
       "    </tr>\n",
       "    <tr>\n",
       "      <th>12/24/21</th>\n",
       "      <td>1646</td>\n",
       "      <td>6014</td>\n",
       "      <td>3016</td>\n",
       "      <td>8386</td>\n",
       "      <td>23627</td>\n",
       "      <td>83</td>\n",
       "      <td>8084</td>\n",
       "      <td>13425</td>\n",
       "      <td>45</td>\n",
       "      <td>4</td>\n",
       "      <td>3219</td>\n",
       "      <td>11891292</td>\n",
       "    </tr>\n",
       "    <tr>\n",
       "      <th>12/25/21</th>\n",
       "      <td>1646</td>\n",
       "      <td>6014</td>\n",
       "      <td>3016</td>\n",
       "      <td>8386</td>\n",
       "      <td>23627</td>\n",
       "      <td>83</td>\n",
       "      <td>8142</td>\n",
       "      <td>13438</td>\n",
       "      <td>45</td>\n",
       "      <td>4</td>\n",
       "      <td>3235</td>\n",
       "      <td>11891292</td>\n",
       "    </tr>\n",
       "    <tr>\n",
       "      <th>12/26/21</th>\n",
       "      <td>1646</td>\n",
       "      <td>6014</td>\n",
       "      <td>3016</td>\n",
       "      <td>8386</td>\n",
       "      <td>23627</td>\n",
       "      <td>83</td>\n",
       "      <td>8142</td>\n",
       "      <td>13438</td>\n",
       "      <td>45</td>\n",
       "      <td>4</td>\n",
       "      <td>3235</td>\n",
       "      <td>11891292</td>\n",
       "    </tr>\n",
       "    <tr>\n",
       "      <th>12/27/21</th>\n",
       "      <td>1646</td>\n",
       "      <td>6014</td>\n",
       "      <td>3071</td>\n",
       "      <td>8386</td>\n",
       "      <td>23627</td>\n",
       "      <td>83</td>\n",
       "      <td>8220</td>\n",
       "      <td>13451</td>\n",
       "      <td>45</td>\n",
       "      <td>4</td>\n",
       "      <td>3276</td>\n",
       "      <td>12209991</td>\n",
       "    </tr>\n",
       "  </tbody>\n",
       "</table>\n",
       "<p>706 rows × 12 columns</p>\n",
       "</div>"
      ],
      "text/plain": [
       "           259   260   261   262    263 264   265    266 267 268   269  \\\n",
       "1/22/20      0     0     0     0      0   0     0      0   0   0     0   \n",
       "1/23/20      0     0     0     0      0   0     0      0   0   0     0   \n",
       "1/24/20      0     0     0     0      0   0     0      0   0   0     0   \n",
       "1/25/20      0     0     0     0      0   0     0      0   0   0     0   \n",
       "1/26/20      0     0     0     0      0   0     0      0   0   0     0   \n",
       "...        ...   ...   ...   ...    ...  ..   ...    ...  ..  ..   ...   \n",
       "12/23/21  1629  6014  3016  8386  23188  83  8014  13401  45   4  3208   \n",
       "12/24/21  1646  6014  3016  8386  23627  83  8084  13425  45   4  3219   \n",
       "12/25/21  1646  6014  3016  8386  23627  83  8142  13438  45   4  3235   \n",
       "12/26/21  1646  6014  3016  8386  23627  83  8142  13438  45   4  3235   \n",
       "12/27/21  1646  6014  3071  8386  23627  83  8220  13451  45   4  3276   \n",
       "\n",
       "               270  \n",
       "1/22/20          0  \n",
       "1/23/20          0  \n",
       "1/24/20          0  \n",
       "1/25/20          0  \n",
       "1/26/20          0  \n",
       "...            ...  \n",
       "12/23/21  11769921  \n",
       "12/24/21  11891292  \n",
       "12/25/21  11891292  \n",
       "12/26/21  11891292  \n",
       "12/27/21  12209991  \n",
       "\n",
       "[706 rows x 12 columns]"
      ]
     },
     "execution_count": 6,
     "metadata": {},
     "output_type": "execute_result"
    }
   ],
   "source": [
    "conf_ts_cntry.T[4:]"
   ]
  },
  {
   "cell_type": "markdown",
   "metadata": {},
   "source": [
    "**4. Aggregating multiple columns**"
   ]
  },
  {
   "cell_type": "code",
   "execution_count": 7,
   "metadata": {},
   "outputs": [
    {
     "data": {
      "text/plain": [
       "1/22/20            0.0\n",
       "1/23/20            0.0\n",
       "1/24/20            0.0\n",
       "1/25/20            0.0\n",
       "1/26/20            0.0\n",
       "               ...    \n",
       "12/23/21    11836909.0\n",
       "12/24/21    11958841.0\n",
       "12/25/21    11958928.0\n",
       "12/26/21    11958928.0\n",
       "12/27/21    12277814.0\n",
       "Length: 706, dtype: float64"
      ]
     },
     "execution_count": 7,
     "metadata": {},
     "output_type": "execute_result"
    }
   ],
   "source": [
    "conf_ts_cntry.T[4:].sum(axis='columns')"
   ]
  },
  {
   "cell_type": "markdown",
   "metadata": {},
   "source": [
    "**5. Get the first difference series to get daily delta**"
   ]
  },
  {
   "cell_type": "code",
   "execution_count": 8,
   "metadata": {},
   "outputs": [
    {
     "data": {
      "text/plain": [
       "1/22/20          NaN\n",
       "1/23/20          0.0\n",
       "1/24/20          0.0\n",
       "1/25/20          0.0\n",
       "1/26/20          0.0\n",
       "              ...   \n",
       "12/23/21    123255.0\n",
       "12/24/21    121932.0\n",
       "12/25/21        87.0\n",
       "12/26/21         0.0\n",
       "12/27/21    318886.0\n",
       "Length: 706, dtype: float64"
      ]
     },
     "execution_count": 8,
     "metadata": {},
     "output_type": "execute_result"
    }
   ],
   "source": [
    "conf_ts_cntry.T[4:].sum(axis='columns').diff()"
   ]
  },
  {
   "cell_type": "markdown",
   "metadata": {},
   "source": [
    "**6. Plot**"
   ]
  },
  {
   "cell_type": "code",
   "execution_count": 9,
   "metadata": {},
   "outputs": [
    {
     "data": {
      "image/png": "[encoded data removed]",
      "text/plain": [
       "<Figure size 1152x576 with 1 Axes>"
      ]
     },
     "metadata": {
      "needs_background": "light"
     },
     "output_type": "display_data"
    }
   ],
   "source": [
    "myplot = conf_ts_cntry.T[4:].sum(axis='columns').diff()[40:].plot(figsize=(16,8))"
   ]
  },
  {
   "cell_type": "code",
   "execution_count": 10,
   "metadata": {},
   "outputs": [
    {
     "data": {
      "image/png": "[encoded data removed]",
      "text/plain": [
       "<Figure size 1152x576 with 1 Axes>"
      ]
     },
     "metadata": {
      "needs_background": "light"
     },
     "output_type": "display_data"
    }
   ],
   "source": [
    "plt.figure(figsize=(16,8))\n",
    "plt.plot(conf_ts_cntry.T[4:].sum(axis='columns').diff().rolling(window=10).mean()[40:]);\n",
    "plt.xticks(rotation=90);"
   ]
  },
  {
   "cell_type": "markdown",
   "metadata": {},
   "source": [
    "**Create Function**"
   ]
  },
  {
   "cell_type": "code",
   "execution_count": 11,
   "metadata": {},
   "outputs": [],
   "source": [
    "def plot_covid_ma(data,cntry='US',window=3):\n",
    "    conf_ts = data\n",
    "    conf_ts_cntry = conf_ts[conf_ts['Country/Region']==cntry]\n",
    "    myplot = conf_ts_cntry.T[4:].sum(axis='columns').diff().rolling(window=window).mean()[40:].plot(figsize=(10,8),title='Daily Cases Trend for {}'.format(cntry),legend=False,color='maroon')\n",
    "    return myplot"
   ]
  },
  {
   "cell_type": "markdown",
   "metadata": {},
   "source": [
    "### 7. Confirmed Cases Trend"
   ]
  },
  {
   "cell_type": "code",
   "execution_count": 13,
   "metadata": {},
   "outputs": [
    {
     "data": {
      "image/png": "[encoded data removed]",
      "text/plain": [
       "<Figure size 720x576 with 1 Axes>"
      ]
     },
     "metadata": {
      "needs_background": "light"
     },
     "output_type": "display_data"
    }
   ],
   "source": [
    "plot_covid_ma(data=covid_confirmed_ts,cntry='Tunisia',window=5);"
   ]
  },
  {
   "cell_type": "code",
   "execution_count": 15,
   "metadata": {},
   "outputs": [
    {
     "data": {
      "image/png": "[encoded data removed]",
      "text/plain": [
       "<Figure size 720x576 with 1 Axes>"
      ]
     },
     "metadata": {
      "needs_background": "light"
     },
     "output_type": "display_data"
    }
   ],
   "source": [
    "plot_covid_ma(data=covid_confirmed_ts,cntry='India',window=5);"
   ]
  },
  {
   "cell_type": "code",
   "execution_count": 16,
   "metadata": {},
   "outputs": [
    {
     "data": {
      "image/png": "[encoded data removed]",
      "text/plain": [
       "<Figure size 720x576 with 1 Axes>"
      ]
     },
     "metadata": {
      "needs_background": "light"
     },
     "output_type": "display_data"
    }
   ],
   "source": [
    "plot_covid_ma(data=covid_confirmed_ts,cntry='US',window=5);"
   ]
  },
  {
   "cell_type": "code",
   "execution_count": 17,
   "metadata": {},
   "outputs": [
    {
     "data": {
      "image/png": "[encoded data removed]",
      "text/plain": [
       "<Figure size 720x576 with 1 Axes>"
      ]
     },
     "metadata": {
      "needs_background": "light"
     },
     "output_type": "display_data"
    }
   ],
   "source": [
    "plot_covid_ma(data=covid_confirmed_ts,cntry='Germany',window=5);"
   ]
  },
  {
   "cell_type": "markdown",
   "metadata": {},
   "source": [
    "### 8. Deaths"
   ]
  },
  {
   "cell_type": "code",
   "execution_count": 18,
   "metadata": {},
   "outputs": [
    {
     "data": {
      "image/png": "[encoded data removed]",
      "text/plain": [
       "<Figure size 720x576 with 1 Axes>"
      ]
     },
     "metadata": {
      "needs_background": "light"
     },
     "output_type": "display_data"
    }
   ],
   "source": [
    "plot_covid_ma(data=covid_dead_ts,cntry='US',window=5);\n",
    "plt.title('Deaths Trend for US');"
   ]
  },
  {
   "cell_type": "code",
   "execution_count": 19,
   "metadata": {},
   "outputs": [
    {
     "data": {
      "image/png": "[encoded data removed]",
      "text/plain": [
       "<Figure size 720x576 with 1 Axes>"
      ]
     },
     "metadata": {
      "needs_background": "light"
     },
     "output_type": "display_data"
    }
   ],
   "source": [
    "plot_covid_ma(data=covid_dead_ts,cntry='Tunisia',window=1);\n",
    "plt.title('Deaths Trend for India');"
   ]
  },
  {
   "cell_type": "code",
   "execution_count": 20,
   "metadata": {},
   "outputs": [
    {
     "data": {
      "image/png": "[encoded data removed]",
      "text/plain": [
       "<Figure size 720x576 with 1 Axes>"
      ]
     },
     "metadata": {
      "needs_background": "light"
     },
     "output_type": "display_data"
    }
   ],
   "source": [
    "plot_covid_ma(data=covid_dead_ts,cntry='Germany',window=1);\n",
    "plt.title('Deaths Trend for Germany');\n",
    "#Population of Germany = 83 Million\n",
    "#Population of US = 328 Million (almost 4 times)"
   ]
  },
  {
   "cell_type": "markdown",
   "metadata": {},
   "source": [
    "### 9. Using Plotly"
   ]
  },
  {
   "cell_type": "code",
   "execution_count": 21,
   "metadata": {},
   "outputs": [],
   "source": [
    "def process_data(data,cntry='Tunisia',window=3):\n",
    "    conf_ts = data\n",
    "    conf_ts_cntry = conf_ts[conf_ts['Country/Region']==cntry]\n",
    "    final_dataset = conf_ts_cntry.T[4:].sum(axis='columns').diff().rolling(window=window).mean()[40:]\n",
    "    df = pd.DataFrame(final_dataset,columns=['Total'])\n",
    "    return df"
   ]
  },
  {
   "cell_type": "code",
   "execution_count": 22,
   "metadata": {},
   "outputs": [
    {
     "data": {
      "text/html": [
       "<div>\n",
       "<style scoped>\n",
       "    .dataframe tbody tr th:only-of-type {\n",
       "        vertical-align: middle;\n",
       "    }\n",
       "\n",
       "    .dataframe tbody tr th {\n",
       "        vertical-align: top;\n",
       "    }\n",
       "\n",
       "    .dataframe thead th {\n",
       "        text-align: right;\n",
       "    }\n",
       "</style>\n",
       "<table border=\"1\" class=\"dataframe\">\n",
       "  <thead>\n",
       "    <tr style=\"text-align: right;\">\n",
       "      <th></th>\n",
       "      <th>Total</th>\n",
       "    </tr>\n",
       "  </thead>\n",
       "  <tbody>\n",
       "    <tr>\n",
       "      <th>3/2/20</th>\n",
       "      <td>0.000000</td>\n",
       "    </tr>\n",
       "    <tr>\n",
       "      <th>3/3/20</th>\n",
       "      <td>0.000000</td>\n",
       "    </tr>\n",
       "    <tr>\n",
       "      <th>3/4/20</th>\n",
       "      <td>0.333333</td>\n",
       "    </tr>\n",
       "    <tr>\n",
       "      <th>3/5/20</th>\n",
       "      <td>0.333333</td>\n",
       "    </tr>\n",
       "    <tr>\n",
       "      <th>3/6/20</th>\n",
       "      <td>0.333333</td>\n",
       "    </tr>\n",
       "    <tr>\n",
       "      <th>3/7/20</th>\n",
       "      <td>0.000000</td>\n",
       "    </tr>\n",
       "    <tr>\n",
       "      <th>3/8/20</th>\n",
       "      <td>0.333333</td>\n",
       "    </tr>\n",
       "    <tr>\n",
       "      <th>3/9/20</th>\n",
       "      <td>0.333333</td>\n",
       "    </tr>\n",
       "    <tr>\n",
       "      <th>3/10/20</th>\n",
       "      <td>1.333333</td>\n",
       "    </tr>\n",
       "    <tr>\n",
       "      <th>3/11/20</th>\n",
       "      <td>1.666667</td>\n",
       "    </tr>\n",
       "  </tbody>\n",
       "</table>\n",
       "</div>"
      ],
      "text/plain": [
       "            Total\n",
       "3/2/20   0.000000\n",
       "3/3/20   0.000000\n",
       "3/4/20   0.333333\n",
       "3/5/20   0.333333\n",
       "3/6/20   0.333333\n",
       "3/7/20   0.000000\n",
       "3/8/20   0.333333\n",
       "3/9/20   0.333333\n",
       "3/10/20  1.333333\n",
       "3/11/20  1.666667"
      ]
     },
     "execution_count": 22,
     "metadata": {},
     "output_type": "execute_result"
    }
   ],
   "source": [
    "df = process_data(data=covid_confirmed_ts,cntry='Tunisia',window=3)\n",
    "df.head(10)"
   ]
  },
  {
   "cell_type": "code",
   "execution_count": 24,
   "metadata": {},
   "outputs": [
    {
     "data": {
      "application/vnd.plotly.v1+json": {
       "config": {
        "plotlyServerURL": "https://plot.ly"
       },
       "data": [
        {
         "hovertemplate": "index=%{x}<br>Total=%{y}<extra></extra>",
         "legendgroup": "",
         "line": {
          "color": "#636efa",
          "dash": "solid"
         },
         "marker": {
          "symbol": "circle"
         },
         "mode": "lines",
         "name": "",
         "orientation": "v",
         "showlegend": false,
         "type": "scatter",
         "x": [
          "3/2/20",
          "3/3/20",
          "3/4/20",
          "3/5/20",
          "3/6/20",
          "3/7/20",
          "3/8/20",
          "3/9/20",
          "3/10/20",
          "3/11/20",
          "3/12/20",
          "3/13/20",
          "3/14/20",
          "3/15/20",
          "3/16/20",
          "3/17/20",
          "3/18/20",
          "3/19/20",
          "3/20/20",
          "3/21/20",
          "3/22/20",
          "3/23/20",
          "3/24/20",
          "3/25/20",
          "3/26/20",
          "3/27/20",
          "3/28/20",
          "3/29/20",
          "3/30/20",
          "3/31/20",
          "4/1/20",
          "4/2/20",
          "4/3/20",
          "4/4/20",
          "4/5/20",
          "4/6/20",
          "4/7/20",
          "4/8/20",
          "4/9/20",
          "4/10/20",
          "4/11/20",
          "4/12/20",
          "4/13/20",
          "4/14/20",
          "4/15/20",
          "4/16/20",
          "4/17/20",
          "4/18/20",
          "4/19/20",
          "4/20/20",
          "4/21/20",
          "4/22/20",
          "4/23/20",
          "4/24/20",
          "4/25/20",
          "4/26/20",
          "4/27/20",
          "4/28/20",
          "4/29/20",
          "4/30/20",
          "5/1/20",
          "5/2/20",
          "5/3/20",
          "5/4/20",
          "5/5/20",
          "5/6/20",
          "5/7/20",
          "5/8/20",
          "5/9/20",
          "5/10/20",
          "5/11/20",
          "5/12/20",
          "5/13/20",
          "5/14/20",
          "5/15/20",
          "5/16/20",
          "5/17/20",
          "5/18/20",
          "5/19/20",
          "5/20/20",
          "5/21/20",
          "5/22/20",
          "5/23/20",
          "5/24/20",
          "5/25/20",
          "5/26/20",
          "5/27/20",
          "5/28/20",
          "5/29/20",
          "5/30/20",
          "5/31/20",
          "6/1/20",
          "6/2/20",
          "6/3/20",
          "6/4/20",
          "6/5/20",
          "6/6/20",
          "6/7/20",
          "6/8/20",
          "6/9/20",
          "6/10/20",
          "6/11/20",
          "6/12/20",
          "6/13/20",
          "6/14/20",
          "6/15/20",
          "6/16/20",
          "6/17/20",
          "6/18/20",
          "6/19/20",
          "6/20/20",
          "6/21/20",
          "6/22/20",
          "6/23/20",
          "6/24/20",
          "6/25/20",
          "6/26/20",
          "6/27/20",
          "6/28/20",
          "6/29/20",
          "6/30/20",
          "7/1/20",
          "7/2/20",
          "7/3/20",
          "7/4/20",
          "7/5/20",
          "7/6/20",
          "7/7/20",
          "7/8/20",
          "7/9/20",
          "7/10/20",
          "7/11/20",
          "7/12/20",
          "7/13/20",
          "7/14/20",
          "7/15/20",
          "7/16/20",
          "7/17/20",
          "7/18/20",
          "7/19/20",
          "7/20/20",
          "7/21/20",
          "7/22/20",
          "7/23/20",
          "7/24/20",
          "7/25/20",
          "7/26/20",
          "7/27/20",
          "7/28/20",
          "7/29/20",
          "7/30/20",
          "7/31/20",
          "8/1/20",
          "8/2/20",
          "8/3/20",
          "8/4/20",
          "8/5/20",
          "8/6/20",
          "8/7/20",
          "8/8/20",
          "8/9/20",
          "8/10/20",
          "8/11/20",
          "8/12/20",
          "8/13/20",
          "8/14/20",
          "8/15/20",
          "8/16/20",
          "8/17/20",
          "8/18/20",
          "8/19/20",
          "8/20/20",
          "8/21/20",
          "8/22/20",
          "8/23/20",
          "8/24/20",
          "8/25/20",
          "8/26/20",
          "8/27/20",
          "8/28/20",
          "8/29/20",
          "8/30/20",
          "8/31/20",
          "9/1/20",
          "9/2/20",
          "9/3/20",
          "9/4/20",
          "9/5/20",
          "9/6/20",
          "9/7/20",
          "9/8/20",
          "9/9/20",
          "9/10/20",
          "9/11/20",
          "9/12/20",
          "9/13/20",
          "9/14/20",
          "9/15/20",
          "9/16/20",
          "9/17/20",
          "9/18/20",
          "9/19/20",
          "9/20/20",
          "9/21/20",
          "9/22/20",
          "9/23/20",
          "9/24/20",
          "9/25/20",
          "9/26/20",
          "9/27/20",
          "9/28/20",
          "9/29/20",
          "9/30/20",
          "10/1/20",
          "10/2/20",
          "10/3/20",
          "10/4/20",
          "10/5/20",
          "10/6/20",
          "10/7/20",
          "10/8/20",
          "10/9/20",
          "10/10/20",
          "10/11/20",
          "10/12/20",
          "10/13/20",
          "10/14/20",
          "10/15/20",
          "10/16/20",
          "10/17/20",
          "10/18/20",
          "10/19/20",
          "10/20/20",
          "10/21/20",
          "10/22/20",
          "10/23/20",
          "10/24/20",
          "10/25/20",
          "10/26/20",
          "10/27/20",
          "10/28/20",
          "10/29/20",
          "10/30/20",
          "10/31/20",
          "11/1/20",
          "11/2/20",
          "11/3/20",
          "11/4/20",
          "11/5/20",
          "11/6/20",
          "11/7/20",
          "11/8/20",
          "11/9/20",
          "11/10/20",
          "11/11/20",
          "11/12/20",
          "11/13/20",
          "11/14/20",
          "11/15/20",
          "11/16/20",
          "11/17/20",
          "11/18/20",
          "11/19/20",
          "11/20/20",
          "11/21/20",
          "11/22/20",
          "11/23/20",
          "11/24/20",
          "11/25/20",
          "11/26/20",
          "11/27/20",
          "11/28/20",
          "11/29/20",
          "11/30/20",
          "12/1/20",
          "12/2/20",
          "12/3/20",
          "12/4/20",
          "12/5/20",
          "12/6/20",
          "12/7/20",
          "12/8/20",
          "12/9/20",
          "12/10/20",
          "12/11/20",
          "12/12/20",
          "12/13/20",
          "12/14/20",
          "12/15/20",
          "12/16/20",
          "12/17/20",
          "12/18/20",
          "12/19/20",
          "12/20/20",
          "12/21/20",
          "12/22/20",
          "12/23/20",
          "12/24/20",
          "12/25/20",
          "12/26/20",
          "12/27/20",
          "12/28/20",
          "12/29/20",
          "12/30/20",
          "12/31/20",
          "1/1/21",
          "1/2/21",
          "1/3/21",
          "1/4/21",
          "1/5/21",
          "1/6/21",
          "1/7/21",
          "1/8/21",
          "1/9/21",
          "1/10/21",
          "1/11/21",
          "1/12/21",
          "1/13/21",
          "1/14/21",
          "1/15/21",
          "1/16/21",
          "1/17/21",
          "1/18/21",
          "1/19/21",
          "1/20/21",
          "1/21/21",
          "1/22/21",
          "1/23/21",
          "1/24/21",
          "1/25/21",
          "1/26/21",
          "1/27/21",
          "1/28/21",
          "1/29/21",
          "1/30/21",
          "1/31/21",
          "2/1/21",
          "2/2/21",
          "2/3/21",
          "2/4/21",
          "2/5/21",
          "2/6/21",
          "2/7/21",
          "2/8/21",
          "2/9/21",
          "2/10/21",
          "2/11/21",
          "2/12/21",
          "2/13/21",
          "2/14/21",
          "2/15/21",
          "2/16/21",
          "2/17/21",
          "2/18/21",
          "2/19/21",
          "2/20/21",
          "2/21/21",
          "2/22/21",
          "2/23/21",
          "2/24/21",
          "2/25/21",
          "2/26/21",
          "2/27/21",
          "2/28/21",
          "3/1/21",
          "3/2/21",
          "3/3/21",
          "3/4/21",
          "3/5/21",
          "3/6/21",
          "3/7/21",
          "3/8/21",
          "3/9/21",
          "3/10/21",
          "3/11/21",
          "3/12/21",
          "3/13/21",
          "3/14/21",
          "3/15/21",
          "3/16/21",
          "3/17/21",
          "3/18/21",
          "3/19/21",
          "3/20/21",
          "3/21/21",
          "3/22/21",
          "3/23/21",
          "3/24/21",
          "3/25/21",
          "3/26/21",
          "3/27/21",
          "3/28/21",
          "3/29/21",
          "3/30/21",
          "3/31/21",
          "4/1/21",
          "4/2/21",
          "4/3/21",
          "4/4/21",
          "4/5/21",
          "4/6/21",
          "4/7/21",
          "4/8/21",
          "4/9/21",
          "4/10/21",
          "4/11/21",
          "4/12/21",
          "4/13/21",
          "4/14/21",
          "4/15/21",
          "4/16/21",
          "4/17/21",
          "4/18/21",
          "4/19/21",
          "4/20/21",
          "4/21/21",
          "4/22/21",
          "4/23/21",
          "4/24/21",
          "4/25/21",
          "4/26/21",
          "4/27/21",
          "4/28/21",
          "4/29/21",
          "4/30/21",
          "5/1/21",
          "5/2/21",
          "5/3/21",
          "5/4/21",
          "5/5/21",
          "5/6/21",
          "5/7/21",
          "5/8/21",
          "5/9/21",
          "5/10/21",
          "5/11/21",
          "5/12/21",
          "5/13/21",
          "5/14/21",
          "5/15/21",
          "5/16/21",
          "5/17/21",
          "5/18/21",
          "5/19/21",
          "5/20/21",
          "5/21/21",
          "5/22/21",
          "5/23/21",
          "5/24/21",
          "5/25/21",
          "5/26/21",
          "5/27/21",
          "5/28/21",
          "5/29/21",
          "5/30/21",
          "5/31/21",
          "6/1/21",
          "6/2/21",
          "6/3/21",
          "6/4/21",
          "6/5/21",
          "6/6/21",
          "6/7/21",
          "6/8/21",
          "6/9/21",
          "6/10/21",
          "6/11/21",
          "6/12/21",
          "6/13/21",
          "6/14/21",
          "6/15/21",
          "6/16/21",
          "6/17/21",
          "6/18/21",
          "6/19/21",
          "6/20/21",
          "6/21/21",
          "6/22/21",
          "6/23/21",
          "6/24/21",
          "6/25/21",
          "6/26/21",
          "6/27/21",
          "6/28/21",
          "6/29/21",
          "6/30/21",
          "7/1/21",
          "7/2/21",
          "7/3/21",
          "7/4/21",
          "7/5/21",
          "7/6/21",
          "7/7/21",
          "7/8/21",
          "7/9/21",
          "7/10/21",
          "7/11/21",
          "7/12/21",
          "7/13/21",
          "7/14/21",
          "7/15/21",
          "7/16/21",
          "7/17/21",
          "7/18/21",
          "7/19/21",
          "7/20/21",
          "7/21/21",
          "7/22/21",
          "7/23/21",
          "7/24/21",
          "7/25/21",
          "7/26/21",
          "7/27/21",
          "7/28/21",
          "7/29/21",
          "7/30/21",
          "7/31/21",
          "8/1/21",
          "8/2/21",
          "8/3/21",
          "8/4/21",
          "8/5/21",
          "8/6/21",
          "8/7/21",
          "8/8/21",
          "8/9/21",
          "8/10/21",
          "8/11/21",
          "8/12/21",
          "8/13/21",
          "8/14/21",
          "8/15/21",
          "8/16/21",
          "8/17/21",
          "8/18/21",
          "8/19/21",
          "8/20/21",
          "8/21/21",
          "8/22/21",
          "8/23/21",
          "8/24/21",
          "8/25/21",
          "8/26/21",
          "8/27/21",
          "8/28/21",
          "8/29/21",
          "8/30/21",
          "8/31/21",
          "9/1/21",
          "9/2/21",
          "9/3/21",
          "9/4/21",
          "9/5/21",
          "9/6/21",
          "9/7/21",
          "9/8/21",
          "9/9/21",
          "9/10/21",
          "9/11/21",
          "9/12/21",
          "9/13/21",
          "9/14/21",
          "9/15/21",
          "9/16/21",
          "9/17/21",
          "9/18/21",
          "9/19/21",
          "9/20/21",
          "9/21/21",
          "9/22/21",
          "9/23/21",
          "9/24/21",
          "9/25/21",
          "9/26/21",
          "9/27/21",
          "9/28/21",
          "9/29/21",
          "9/30/21",
          "10/1/21",
          "10/2/21",
          "10/3/21",
          "10/4/21",
          "10/5/21",
          "10/6/21",
          "10/7/21",
          "10/8/21",
          "10/9/21",
          "10/10/21",
          "10/11/21",
          "10/12/21",
          "10/13/21",
          "10/14/21",
          "10/15/21",
          "10/16/21",
          "10/17/21",
          "10/18/21",
          "10/19/21",
          "10/20/21",
          "10/21/21",
          "10/22/21",
          "10/23/21",
          "10/24/21",
          "10/25/21",
          "10/26/21",
          "10/27/21",
          "10/28/21",
          "10/29/21",
          "10/30/21",
          "10/31/21",
          "11/1/21",
          "11/2/21",
          "11/3/21",
          "11/4/21",
          "11/5/21",
          "11/6/21",
          "11/7/21",
          "11/8/21",
          "11/9/21",
          "11/10/21",
          "11/11/21",
          "11/12/21",
          "11/13/21",
          "11/14/21",
          "11/15/21",
          "11/16/21",
          "11/17/21",
          "11/18/21",
          "11/19/21",
          "11/20/21",
          "11/21/21",
          "11/22/21",
          "11/23/21",
          "11/24/21",
          "11/25/21",
          "11/26/21",
          "11/27/21",
          "11/28/21",
          "11/29/21",
          "11/30/21",
          "12/1/21",
          "12/2/21",
          "12/3/21",
          "12/4/21",
          "12/5/21",
          "12/6/21",
          "12/7/21",
          "12/8/21",
          "12/9/21",
          "12/10/21",
          "12/11/21",
          "12/12/21",
          "12/13/21",
          "12/14/21",
          "12/15/21",
          "12/16/21",
          "12/17/21",
          "12/18/21",
          "12/19/21",
          "12/20/21",
          "12/21/21",
          "12/22/21",
          "12/23/21",
          "12/24/21",
          "12/25/21",
          "12/26/21",
          "12/27/21"
         ],
         "xaxis": "x",
         "y": [
          0,
          0,
          0.3333333333333333,
          0.3333333333333333,
          0.3333333333333333,
          0,
          0.3333333333333333,
          0.3333333333333333,
          1.3333333333333333,
          1.6666666666666667,
          1.6666666666666667,
          3.6666666666666665,
          3.6666666666666665,
          3.6666666666666665,
          1.3333333333333333,
          2,
          3.6666666666666665,
          6.333333333333333,
          10,
          10.333333333333334,
          12,
          11.666666666666666,
          18,
          32.666666666666664,
          36,
          37.666666666666664,
          35,
          38.333333333333336,
          28.333333333333332,
          38.666666666666664,
          37,
          47.666666666666664,
          33.666666666666664,
          43.333333333333336,
          39.666666666666664,
          33.666666666666664,
          23.333333333333332,
          18,
          15.666666666666666,
          16,
          19,
          21.333333333333332,
          18.333333333333332,
          20.666666666666668,
          24.333333333333332,
          32,
          39,
          28,
          19,
          6.666666666666667,
          6.666666666666667,
          10,
          11.333333333333334,
          12.666666666666666,
          10,
          10.333333333333334,
          15,
          12,
          10.333333333333334,
          9,
          7.666666666666667,
          9.666666666666666,
          6.333333333333333,
          6.666666666666667,
          4.333333333333333,
          4,
          2.6666666666666665,
          2.6666666666666665,
          2.3333333333333335,
          2,
          0.6666666666666666,
          0,
          0,
          0,
          1,
          1.6666666666666667,
          1.6666666666666667,
          2.6666666666666665,
          2.3333333333333335,
          2.6666666666666665,
          1,
          1.3333333333333333,
          1,
          1.6666666666666667,
          1,
          1,
          0,
          5.666666666666667,
          6.666666666666667,
          8.333333333333334,
          3,
          4.333333333333333,
          3.3333333333333335,
          3.3333333333333335,
          1,
          0.3333333333333333,
          0,
          0,
          0,
          0,
          0,
          0,
          2,
          2.3333333333333335,
          3,
          5.666666666666667,
          10.333333333333334,
          10.666666666666666,
          7.333333333333333,
          7,
          9.333333333333334,
          8.333333333333334,
          4.333333333333333,
          1,
          1,
          1,
          1.6666666666666667,
          2.6666666666666665,
          2.3333333333333335,
          2.6666666666666665,
          2,
          2,
          2,
          2.3333333333333335,
          3.6666666666666665,
          3.3333333333333335,
          6,
          6.333333333333333,
          11,
          10.666666666666666,
          11.666666666666666,
          8,
          10.666666666666666,
          20.666666666666668,
          20.333333333333332,
          18.666666666666668,
          8.333333333333334,
          10,
          9.666666666666666,
          15.666666666666666,
          15,
          13.666666666666666,
          6.666666666666667,
          8.333333333333334,
          12,
          16.333333333333332,
          15.333333333333334,
          10,
          8.333333333333334,
          12,
          19.666666666666668,
          22.333333333333332,
          21.333333333333332,
          15.666666666666666,
          10,
          10.666666666666666,
          13.333333333333334,
          25.666666666666668,
          24,
          25.666666666666668,
          18.333333333333332,
          20.333333333333332,
          20,
          27.666666666666668,
          43.333333333333336,
          55,
          81,
          86.66666666666667,
          94,
          97,
          106.66666666666667,
          119.33333333333333,
          97.66666666666667,
          103.66666666666667,
          91.66666666666667,
          95.33333333333333,
          110.33333333333333,
          129.33333333333334,
          143.33333333333334,
          130.66666666666666,
          122,
          120.66666666666667,
          114,
          130.33333333333334,
          170.33333333333334,
          197,
          193,
          193.33333333333334,
          215.66666666666666,
          194,
          213.66666666666666,
          125.33333333333333,
          252.66666666666666,
          280.6666666666667,
          406,
          251,
          374.3333333333333,
          329.3333333333333,
          488.3333333333333,
          396,
          315.6666666666667,
          336.6666666666667,
          720.6666666666666,
          896.6666666666666,
          716.6666666666666,
          582.3333333333334,
          681.6666666666666,
          1044,
          637.6666666666666,
          936.3333333333334,
          574,
          1004.3333333333334,
          766.3333333333334,
          766.3333333333334,
          772,
          843.6666666666666,
          1272.3333333333333,
          836.3333333333334,
          428.6666666666667,
          770.6666666666666,
          1556.3333333333333,
          1556.3333333333333,
          2239,
          1885.6666666666667,
          1885.6666666666667,
          432.3333333333333,
          744.6666666666666,
          744.6666666666666,
          744.6666666666666,
          1917.3333333333333,
          1917.3333333333333,
          2645.6666666666665,
          1302.6666666666667,
          1783.3333333333333,
          1055,
          921.3333333333334,
          969,
          969,
          1728.3333333333333,
          1200,
          1826.3333333333333,
          626.3333333333334,
          1876.6666666666667,
          1845,
          2279,
          1292.3333333333333,
          1104.3333333333333,
          1082.6666666666667,
          1476,
          1069.3333333333333,
          1726.6666666666667,
          1595,
          1745,
          1150,
          1134.3333333333333,
          1512.3333333333333,
          1558.3333333333333,
          1605.6666666666667,
          1432.6666666666667,
          1111.6666666666667,
          794.6666666666666,
          1122.6666666666667,
          923,
          1514,
          1233,
          1646.3333333333333,
          977,
          914,
          865.3333333333334,
          1093,
          1185.6666666666667,
          1224.3333333333333,
          1258.6666666666667,
          999.6666666666666,
          596.3333333333334,
          1009.6666666666666,
          837,
          1710.3333333333333,
          1237,
          1574,
          809.6666666666666,
          818,
          951.3333333333334,
          1161.6666666666667,
          1219.6666666666667,
          1179,
          1182.3333333333333,
          752.3333333333334,
          949.3333333333334,
          1062,
          1535,
          1447,
          1534.6666666666667,
          1573.6666666666667,
          1378.6666666666667,
          1390.6666666666667,
          1437.6666666666667,
          1678,
          1751.6666666666667,
          1743.3333333333333,
          1613.3333333333333,
          1542,
          1524,
          1874.6666666666667,
          1978.6666666666667,
          1918.3333333333333,
          1587.6666666666667,
          1468,
          1413,
          1694,
          2112.3333333333335,
          2486,
          2614,
          2544.3333333333335,
          2340.6666666666665,
          2482.3333333333335,
          2474,
          3097.3333333333335,
          2848.3333333333335,
          3376.3333333333335,
          2887.6666666666665,
          3065,
          2273.3333333333335,
          2417.3333333333335,
          2761,
          2999.6666666666665,
          2930,
          2313.6666666666665,
          2163,
          1787.6666666666667,
          1782.6666666666667,
          1650,
          1905,
          1789.3333333333333,
          1715,
          1511.3333333333333,
          1338.3333333333333,
          1314.6666666666667,
          1264.6666666666667,
          1301.3333333333333,
          1233.3333333333333,
          1165.6666666666667,
          1045.6666666666667,
          880.3333333333334,
          796,
          854.6666666666666,
          908.3333333333334,
          963.6666666666666,
          951.3333333333334,
          922,
          698,
          608.3333333333334,
          624,
          822,
          803.6666666666666,
          842.3333333333334,
          782.3333333333334,
          732.3333333333334,
          712.6666666666666,
          693.6666666666666,
          787,
          727.6666666666666,
          724,
          659.6666666666666,
          568.3333333333334,
          538.6666666666666,
          577,
          658,
          708.3333333333334,
          673.3333333333334,
          687,
          553.6666666666666,
          528.3333333333334,
          554.6666666666666,
          653.3333333333334,
          668,
          629.6666666666666,
          619,
          502.3333333333333,
          472,
          535,
          603.6666666666666,
          701,
          655.3333333333334,
          590.3333333333334,
          382.3333333333333,
          367.3333333333333,
          516,
          704.6666666666666,
          758.3333333333334,
          816.3333333333334,
          842.6666666666666,
          795.6666666666666,
          822.6666666666666,
          1151,
          1379.6666666666667,
          1586.6666666666667,
          1439,
          1578.6666666666667,
          1415.3333333333333,
          1569.3333333333333,
          1650,
          1883.3333333333333,
          1931.3333333333333,
          1767.6666666666667,
          1678,
          1367.6666666666667,
          1435.6666666666667,
          1622,
          2145.3333333333335,
          2391,
          2416.3333333333335,
          2038,
          1761.3333333333333,
          1751.3333333333333,
          2114.3333333333335,
          2359,
          2371,
          2246.3333333333335,
          2068,
          1761.3333333333333,
          1670.6666666666667,
          1657,
          1862.6666666666667,
          1845,
          1807,
          1509.3333333333333,
          1209.3333333333333,
          1139.3333333333333,
          1285.6666666666667,
          1421,
          1361.3333333333333,
          1304,
          1267.6666666666667,
          1200.3333333333333,
          1162,
          1096.6666666666667,
          995.3333333333334,
          760.6666666666666,
          576.3333333333334,
          583,
          731,
          898.6666666666666,
          1117.6666666666667,
          1400.3333333333333,
          1435,
          1391.3333333333333,
          1223.6666666666667,
          1193.6666666666667,
          1143.3333333333333,
          1169.3333333333333,
          1278.6666666666667,
          1474.3333333333333,
          1507,
          1479.3333333333333,
          1174,
          1204,
          1407.6666666666667,
          1671,
          1772.3333333333333,
          1623.6666666666667,
          1748.3333333333333,
          1482.3333333333333,
          1467,
          1517.6666666666667,
          1969.3333333333333,
          2212,
          2254,
          2083.3333333333335,
          1801.6666666666667,
          1724.6666666666667,
          1801.3333333333333,
          2155.6666666666665,
          2253.6666666666665,
          2287.6666666666665,
          2086.3333333333335,
          2148.6666666666665,
          2199.3333333333335,
          2820.3333333333335,
          3311.3333333333335,
          3685.3333333333335,
          4027.3333333333335,
          3885,
          3367.3333333333335,
          3563,
          4362,
          5982.666666666667,
          6193,
          6280.666666666667,
          5584,
          4800,
          5382,
          7094.333333333333,
          8689.333333333334,
          8881.333333333334,
          8702.333333333334,
          8128,
          6729.333333333333,
          6458.333333333333,
          6998.666666666667,
          8188,
          7626,
          7396.333333333333,
          6582,
          5159.666666666667,
          4704.333333333333,
          3254.6666666666665,
          3184.3333333333335,
          1131.6666666666667,
          2644.3333333333335,
          3661,
          5029.333333333333,
          3690.6666666666665,
          3224.3333333333335,
          3081.3333333333335,
          3714.6666666666665,
          3534.3333333333335,
          4298,
          3543,
          2403.3333333333335,
          2408.3333333333335,
          1994,
          2810,
          1785.6666666666667,
          2634.3333333333335,
          2807.6666666666665,
          1838,
          2034.6666666666667,
          1498.6666666666667,
          2194.6666666666665,
          1832.6666666666667,
          1938.6666666666667,
          1825.3333333333333,
          1496,
          2796,
          2213.3333333333335,
          2901.6666666666665,
          1914.6666666666667,
          2856.3333333333335,
          2444.3333333333335,
          2000,
          2195.3333333333335,
          2749,
          3575.3333333333335,
          3613,
          3184,
          2651.3333333333335,
          1904,
          1860.3333333333333,
          1766.3333333333333,
          1997.6666666666667,
          2022.6666666666667,
          1998.6666666666667,
          1721.3333333333333,
          1178.3333333333333,
          1438.6666666666667,
          1627.6666666666667,
          1964.3333333333333,
          1779,
          1648.3333333333333,
          1378.3333333333333,
          3902,
          3753.3333333333335,
          3874,
          1007,
          981.6666666666666,
          835.6666666666666,
          657.6666666666666,
          527.6666666666666,
          858.3333333333334,
          886.3333333333334,
          750.6666666666666,
          803.6666666666666,
          618.3333333333334,
          805,
          186.66666666666666,
          466.6666666666667,
          572,
          691.3333333333334,
          556.3333333333334,
          264.3333333333333,
          218.33333333333334,
          268.3333333333333,
          339.3333333333333,
          339.6666666666667,
          222.66666666666666,
          151.66666666666666,
          204,
          136.66666666666666,
          213.33333333333334,
          162.66666666666666,
          152,
          192.33333333333334,
          150.33333333333334,
          194.66666666666666,
          93.33333333333333,
          78,
          86,
          148,
          130,
          119,
          98.66666666666667,
          141.33333333333334,
          164,
          148.66666666666666,
          136.33333333333334,
          101.66666666666667,
          59.666666666666664,
          172.33333333333334,
          152.66666666666666,
          187.33333333333334,
          78.33333333333333,
          98.33333333333333,
          63.666666666666664,
          90.66666666666667,
          79,
          93.66666666666667,
          32.666666666666664,
          656,
          712.3333333333334,
          739.6666666666666,
          120.33333333333333,
          66,
          48.333333333333336,
          60.333333333333336,
          74.66666666666667,
          90.66666666666667,
          85.33333333333333,
          90.66666666666667,
          91.33333333333333,
          74.66666666666667,
          142,
          146.66666666666666,
          187.66666666666666,
          126.33333333333333,
          153.66666666666666,
          132.33333333333334,
          107,
          136.33333333333334,
          150.66666666666666,
          199.66666666666666,
          162.33333333333334,
          189.33333333333334,
          178.33333333333334,
          128,
          139.33333333333334,
          141,
          187.66666666666666,
          183.66666666666666,
          189.33333333333334,
          193.33333333333334,
          113,
          156.33333333333334,
          185.66666666666666,
          310.6666666666667,
          205,
          236.66666666666666,
          171,
          195,
          199,
          255.33333333333334,
          340,
          331,
          332.6666666666667,
          224,
          326.3333333333333
         ],
         "yaxis": "y"
        }
       ],
       "layout": {
        "legend": {
         "tracegroupgap": 0
        },
        "template": {
         "data": {
          "bar": [
           {
            "error_x": {
             "color": "#2a3f5f"
            },
            "error_y": {
             "color": "#2a3f5f"
            },
            "marker": {
             "line": {
              "color": "#E5ECF6",
              "width": 0.5
             },
             "pattern": {
              "fillmode": "overlay",
              "size": 10,
              "solidity": 0.2
             }
            },
            "type": "bar"
           }
          ],
          "barpolar": [
           {
            "marker": {
             "line": {
              "color": "#E5ECF6",
              "width": 0.5
             },
             "pattern": {
              "fillmode": "overlay",
              "size": 10,
              "solidity": 0.2
             }
            },
            "type": "barpolar"
           }
          ],
          "carpet": [
           {
            "aaxis": {
             "endlinecolor": "#2a3f5f",
             "gridcolor": "white",
             "linecolor": "white",
             "minorgridcolor": "white",
             "startlinecolor": "#2a3f5f"
            },
            "baxis": {
             "endlinecolor": "#2a3f5f",
             "gridcolor": "white",
             "linecolor": "white",
             "minorgridcolor": "white",
             "startlinecolor": "#2a3f5f"
            },
            "type": "carpet"
           }
          ],
          "choropleth": [
           {
            "colorbar": {
             "outlinewidth": 0,
             "ticks": ""
            },
            "type": "choropleth"
           }
          ],
          "contour": [
           {
            "colorbar": {
             "outlinewidth": 0,
             "ticks": ""
            },
            "colorscale": [
             [
              0,
              "#0d0887"
             ],
             [
              0.1111111111111111,
              "#46039f"
             ],
             [
              0.2222222222222222,
              "#7201a8"
             ],
             [
              0.3333333333333333,
              "#9c179e"
             ],
             [
              0.4444444444444444,
              "#bd3786"
             ],
             [
              0.5555555555555556,
              "#d8576b"
             ],
             [
              0.6666666666666666,
              "#ed7953"
             ],
             [
              0.7777777777777778,
              "#fb9f3a"
             ],
             [
              0.8888888888888888,
              "#fdca26"
             ],
             [
              1,
              "#f0f921"
             ]
            ],
            "type": "contour"
           }
          ],
          "contourcarpet": [
           {
            "colorbar": {
             "outlinewidth": 0,
             "ticks": ""
            },
            "type": "contourcarpet"
           }
          ],
          "heatmap": [
           {
            "colorbar": {
             "outlinewidth": 0,
             "ticks": ""
            },
            "colorscale": [
             [
              0,
              "#0d0887"
             ],
             [
              0.1111111111111111,
              "#46039f"
             ],
             [
              0.2222222222222222,
              "#7201a8"
             ],
             [
              0.3333333333333333,
              "#9c179e"
             ],
             [
              0.4444444444444444,
              "#bd3786"
             ],
             [
              0.5555555555555556,
              "#d8576b"
             ],
             [
              0.6666666666666666,
              "#ed7953"
             ],
             [
              0.7777777777777778,
              "#fb9f3a"
             ],
             [
              0.8888888888888888,
              "#fdca26"
             ],
             [
              1,
              "#f0f921"
             ]
            ],
            "type": "heatmap"
           }
          ],
          "heatmapgl": [
           {
            "colorbar": {
             "outlinewidth": 0,
             "ticks": ""
            },
            "colorscale": [
             [
              0,
              "#0d0887"
             ],
             [
              0.1111111111111111,
              "#46039f"
             ],
             [
              0.2222222222222222,
              "#7201a8"
             ],
             [
              0.3333333333333333,
              "#9c179e"
             ],
             [
              0.4444444444444444,
              "#bd3786"
             ],
             [
              0.5555555555555556,
              "#d8576b"
             ],
             [
              0.6666666666666666,
              "#ed7953"
             ],
             [
              0.7777777777777778,
              "#fb9f3a"
             ],
             [
              0.8888888888888888,
              "#fdca26"
             ],
             [
              1,
              "#f0f921"
             ]
            ],
            "type": "heatmapgl"
           }
          ],
          "histogram": [
           {
            "marker": {
             "pattern": {
              "fillmode": "overlay",
              "size": 10,
              "solidity": 0.2
             }
            },
            "type": "histogram"
           }
          ],
          "histogram2d": [
           {
            "colorbar": {
             "outlinewidth": 0,
             "ticks": ""
            },
            "colorscale": [
             [
              0,
              "#0d0887"
             ],
             [
              0.1111111111111111,
              "#46039f"
             ],
             [
              0.2222222222222222,
              "#7201a8"
             ],
             [
              0.3333333333333333,
              "#9c179e"
             ],
             [
              0.4444444444444444,
              "#bd3786"
             ],
             [
              0.5555555555555556,
              "#d8576b"
             ],
             [
              0.6666666666666666,
              "#ed7953"
             ],
             [
              0.7777777777777778,
              "#fb9f3a"
             ],
             [
              0.8888888888888888,
              "#fdca26"
             ],
             [
              1,
              "#f0f921"
             ]
            ],
            "type": "histogram2d"
           }
          ],
          "histogram2dcontour": [
           {
            "colorbar": {
             "outlinewidth": 0,
             "ticks": ""
            },
            "colorscale": [
             [
              0,
              "#0d0887"
             ],
             [
              0.1111111111111111,
              "#46039f"
             ],
             [
              0.2222222222222222,
              "#7201a8"
             ],
             [
              0.3333333333333333,
              "#9c179e"
             ],
             [
              0.4444444444444444,
              "#bd3786"
             ],
             [
              0.5555555555555556,
              "#d8576b"
             ],
             [
              0.6666666666666666,
              "#ed7953"
             ],
             [
              0.7777777777777778,
              "#fb9f3a"
             ],
             [
              0.8888888888888888,
              "#fdca26"
             ],
             [
              1,
              "#f0f921"
             ]
            ],
            "type": "histogram2dcontour"
           }
          ],
          "mesh3d": [
           {
            "colorbar": {
             "outlinewidth": 0,
             "ticks": ""
            },
            "type": "mesh3d"
           }
          ],
          "parcoords": [
           {
            "line": {
             "colorbar": {
              "outlinewidth": 0,
              "ticks": ""
             }
            },
            "type": "parcoords"
           }
          ],
          "pie": [
           {
            "automargin": true,
            "type": "pie"
           }
          ],
          "scatter": [
           {
            "marker": {
             "colorbar": {
              "outlinewidth": 0,
              "ticks": ""
             }
            },
            "type": "scatter"
           }
          ],
          "scatter3d": [
           {
            "line": {
             "colorbar": {
              "outlinewidth": 0,
              "ticks": ""
             }
            },
            "marker": {
             "colorbar": {
              "outlinewidth": 0,
              "ticks": ""
             }
            },
            "type": "scatter3d"
           }
          ],
          "scattercarpet": [
           {
            "marker": {
             "colorbar": {
              "outlinewidth": 0,
              "ticks": ""
             }
            },
            "type": "scattercarpet"
           }
          ],
          "scattergeo": [
           {
            "marker": {
             "colorbar": {
              "outlinewidth": 0,
              "ticks": ""
             }
            },
            "type": "scattergeo"
           }
          ],
          "scattergl": [
           {
            "marker": {
             "colorbar": {
              "outlinewidth": 0,
              "ticks": ""
             }
            },
            "type": "scattergl"
           }
          ],
          "scattermapbox": [
           {
            "marker": {
             "colorbar": {
              "outlinewidth": 0,
              "ticks": ""
             }
            },
            "type": "scattermapbox"
           }
          ],
          "scatterpolar": [
           {
            "marker": {
             "colorbar": {
              "outlinewidth": 0,
              "ticks": ""
             }
            },
            "type": "scatterpolar"
           }
          ],
          "scatterpolargl": [
           {
            "marker": {
             "colorbar": {
              "outlinewidth": 0,
              "ticks": ""
             }
            },
            "type": "scatterpolargl"
           }
          ],
          "scatterternary": [
           {
            "marker": {
             "colorbar": {
              "outlinewidth": 0,
              "ticks": ""
             }
            },
            "type": "scatterternary"
           }
          ],
          "surface": [
           {
            "colorbar": {
             "outlinewidth": 0,
             "ticks": ""
            },
            "colorscale": [
             [
              0,
              "#0d0887"
             ],
             [
              0.1111111111111111,
              "#46039f"
             ],
             [
              0.2222222222222222,
              "#7201a8"
             ],
             [
              0.3333333333333333,
              "#9c179e"
             ],
             [
              0.4444444444444444,
              "#bd3786"
             ],
             [
              0.5555555555555556,
              "#d8576b"
             ],
             [
              0.6666666666666666,
              "#ed7953"
             ],
             [
              0.7777777777777778,
              "#fb9f3a"
             ],
             [
              0.8888888888888888,
              "#fdca26"
             ],
             [
              1,
              "#f0f921"
             ]
            ],
            "type": "surface"
           }
          ],
          "table": [
           {
            "cells": {
             "fill": {
              "color": "#EBF0F8"
             },
             "line": {
              "color": "white"
             }
            },
            "header": {
             "fill": {
              "color": "#C8D4E3"
             },
             "line": {
              "color": "white"
             }
            },
            "type": "table"
           }
          ]
         },
         "layout": {
          "annotationdefaults": {
           "arrowcolor": "#2a3f5f",
           "arrowhead": 0,
           "arrowwidth": 1
          },
          "autotypenumbers": "strict",
          "coloraxis": {
           "colorbar": {
            "outlinewidth": 0,
            "ticks": ""
           }
          },
          "colorscale": {
           "diverging": [
            [
             0,
             "#8e0152"
            ],
            [
             0.1,
             "#c51b7d"
            ],
            [
             0.2,
             "#de77ae"
            ],
            [
             0.3,
             "#f1b6da"
            ],
            [
             0.4,
             "#fde0ef"
            ],
            [
             0.5,
             "#f7f7f7"
            ],
            [
             0.6,
             "#e6f5d0"
            ],
            [
             0.7,
             "#b8e186"
            ],
            [
             0.8,
             "#7fbc41"
            ],
            [
             0.9,
             "#4d9221"
            ],
            [
             1,
             "#276419"
            ]
           ],
           "sequential": [
            [
             0,
             "#0d0887"
            ],
            [
             0.1111111111111111,
             "#46039f"
            ],
            [
             0.2222222222222222,
             "#7201a8"
            ],
            [
             0.3333333333333333,
             "#9c179e"
            ],
            [
             0.4444444444444444,
             "#bd3786"
            ],
            [
             0.5555555555555556,
             "#d8576b"
            ],
            [
             0.6666666666666666,
             "#ed7953"
            ],
            [
             0.7777777777777778,
             "#fb9f3a"
            ],
            [
             0.8888888888888888,
             "#fdca26"
            ],
            [
             1,
             "#f0f921"
            ]
           ],
           "sequentialminus": [
            [
             0,
             "#0d0887"
            ],
            [
             0.1111111111111111,
             "#46039f"
            ],
            [
             0.2222222222222222,
             "#7201a8"
            ],
            [
             0.3333333333333333,
             "#9c179e"
            ],
            [
             0.4444444444444444,
             "#bd3786"
            ],
            [
             0.5555555555555556,
             "#d8576b"
            ],
            [
             0.6666666666666666,
             "#ed7953"
            ],
            [
             0.7777777777777778,
             "#fb9f3a"
            ],
            [
             0.8888888888888888,
             "#fdca26"
            ],
            [
             1,
             "#f0f921"
            ]
           ]
          },
          "colorway": [
           "#636efa",
           "#EF553B",
           "#00cc96",
           "#ab63fa",
           "#FFA15A",
           "#19d3f3",
           "#FF6692",
           "#B6E880",
           "#FF97FF",
           "#FECB52"
          ],
          "font": {
           "color": "#2a3f5f"
          },
          "geo": {
           "bgcolor": "white",
           "lakecolor": "white",
           "landcolor": "#E5ECF6",
           "showlakes": true,
           "showland": true,
           "subunitcolor": "white"
          },
          "hoverlabel": {
           "align": "left"
          },
          "hovermode": "closest",
          "mapbox": {
           "style": "light"
          },
          "paper_bgcolor": "white",
          "plot_bgcolor": "#E5ECF6",
          "polar": {
           "angularaxis": {
            "gridcolor": "white",
            "linecolor": "white",
            "ticks": ""
           },
           "bgcolor": "#E5ECF6",
           "radialaxis": {
            "gridcolor": "white",
            "linecolor": "white",
            "ticks": ""
           }
          },
          "scene": {
           "xaxis": {
            "backgroundcolor": "#E5ECF6",
            "gridcolor": "white",
            "gridwidth": 2,
            "linecolor": "white",
            "showbackground": true,
            "ticks": "",
            "zerolinecolor": "white"
           },
           "yaxis": {
            "backgroundcolor": "#E5ECF6",
            "gridcolor": "white",
            "gridwidth": 2,
            "linecolor": "white",
            "showbackground": true,
            "ticks": "",
            "zerolinecolor": "white"
           },
           "zaxis": {
            "backgroundcolor": "#E5ECF6",
            "gridcolor": "white",
            "gridwidth": 2,
            "linecolor": "white",
            "showbackground": true,
            "ticks": "",
            "zerolinecolor": "white"
           }
          },
          "shapedefaults": {
           "line": {
            "color": "#2a3f5f"
           }
          },
          "ternary": {
           "aaxis": {
            "gridcolor": "white",
            "linecolor": "white",
            "ticks": ""
           },
           "baxis": {
            "gridcolor": "white",
            "linecolor": "white",
            "ticks": ""
           },
           "bgcolor": "#E5ECF6",
           "caxis": {
            "gridcolor": "white",
            "linecolor": "white",
            "ticks": ""
           }
          },
          "title": {
           "x": 0.05
          },
          "xaxis": {
           "automargin": true,
           "gridcolor": "white",
           "linecolor": "white",
           "ticks": "",
           "title": {
            "standoff": 15
           },
           "zerolinecolor": "white",
           "zerolinewidth": 2
          },
          "yaxis": {
           "automargin": true,
           "gridcolor": "white",
           "linecolor": "white",
           "ticks": "",
           "title": {
            "standoff": 15
           },
           "zerolinecolor": "white",
           "zerolinewidth": 2
          }
         }
        },
        "title": {
         "text": "Daily confirmed cases trend",
         "x": 0.5
        },
        "xaxis": {
         "anchor": "y",
         "domain": [
          0,
          1
         ],
         "title": {
          "text": "index"
         }
        },
        "yaxis": {
         "anchor": "x",
         "domain": [
          0,
          1
         ],
         "title": {
          "text": "Total"
         }
        }
       }
      }
     },
     "metadata": {},
     "output_type": "display_data"
    }
   ],
   "source": [
    "pio.renderers.default = \"plotly_mimetype\"\n",
    "fig = px.line(df, y='Total', x=df.index, title='Daily confirmed cases trend')\n",
    "fig.update_layout(title_x=0.5)\n",
    "fig.show()"
   ]
  },
  {
   "cell_type": "code",
   "execution_count": 26,
   "metadata": {},
   "outputs": [
    {
     "data": {
      "image/svg+xml": [
       "<svg class=\"main-svg\" xmlns=\"http://www.w3.org/2000/svg\" xmlns:xlink=\"http://www.w3.org/1999/xlink\" width=\"500\" height=\"500\" style=\"\" viewBox=\"0 0 500 500\"><rect x=\"0\" y=\"0\" width=\"500\" height=\"500\" style=\"fill: rgb(255, 255, 255); fill-opacity: 1;\"/><defs id=\"defs-33aaa1\"><g class=\"clips\"><clipPath id=\"clip33aaa1xyplot\" class=\"plotclip\"><rect width=\"340\" height=\"306\"/></clipPath><clipPath class=\"axesclip\" id=\"clip33aaa1x\"><rect x=\"80\" y=\"0\" width=\"340\" height=\"500\"/></clipPath><clipPath class=\"axesclip\" id=\"clip33aaa1y\"><rect x=\"0\" y=\"100\" width=\"500\" height=\"306\"/></clipPath><clipPath class=\"axesclip\" id=\"clip33aaa1xy\"><rect x=\"80\" y=\"100\" width=\"340\" height=\"306\"/></clipPath></g><g class=\"gradients\"/><g class=\"patterns\"/></defs><g class=\"bglayer\"><rect class=\"bg\" x=\"80\" y=\"100\" width=\"340\" height=\"306\" style=\"fill: rgb(229, 236, 246); fill-opacity: 1; stroke-width: 0;\"/></g><g class=\"layer-below\"><g class=\"imagelayer\"/><g class=\"shapelayer\"/></g><g class=\"cartesianlayer\"><g class=\"subplot xy\"><g class=\"layer-subplot\"><g class=\"shapelayer\"/><g class=\"imagelayer\"/></g><g class=\"gridlayer\"><g class=\"x\"><path class=\"xgrid crisp\" transform=\"translate(94.32,0)\" d=\"M0,100v306\" style=\"stroke: rgb(255, 255, 255); stroke-opacity: 1; stroke-width: 1px;\"/><path class=\"xgrid crisp\" transform=\"translate(108.63,0)\" d=\"M0,100v306\" style=\"stroke: rgb(255, 255, 255); stroke-opacity: 1; stroke-width: 1px;\"/><path class=\"xgrid crisp\" transform=\"translate(122.95,0)\" d=\"M0,100v306\" style=\"stroke: rgb(255, 255, 255); stroke-opacity: 1; stroke-width: 1px;\"/><path class=\"xgrid crisp\" transform=\"translate(137.26,0)\" d=\"M0,100v306\" style=\"stroke: rgb(255, 255, 255); stroke-opacity: 1; stroke-width: 1px;\"/><path class=\"xgrid crisp\" transform=\"translate(151.57999999999998,0)\" d=\"M0,100v306\" style=\"stroke: rgb(255, 255, 255); stroke-opacity: 1; stroke-width: 1px;\"/><path class=\"xgrid crisp\" transform=\"translate(165.89,0)\" d=\"M0,100v306\" style=\"stroke: rgb(255, 255, 255); stroke-opacity: 1; stroke-width: 1px;\"/><path class=\"xgrid crisp\" transform=\"translate(180.20999999999998,0)\" d=\"M0,100v306\" style=\"stroke: rgb(255, 255, 255); stroke-opacity: 1; stroke-width: 1px;\"/><path class=\"xgrid crisp\" transform=\"translate(194.53,0)\" d=\"M0,100v306\" style=\"stroke: rgb(255, 255, 255); stroke-opacity: 1; stroke-width: 1px;\"/><path class=\"xgrid crisp\" transform=\"translate(208.84,0)\" d=\"M0,100v306\" style=\"stroke: rgb(255, 255, 255); stroke-opacity: 1; stroke-width: 1px;\"/><path class=\"xgrid crisp\" transform=\"translate(223.16,0)\" d=\"M0,100v306\" style=\"stroke: rgb(255, 255, 255); stroke-opacity: 1; stroke-width: 1px;\"/><path class=\"xgrid crisp\" transform=\"translate(237.47,0)\" d=\"M0,100v306\" style=\"stroke: rgb(255, 255, 255); stroke-opacity: 1; stroke-width: 1px;\"/><path class=\"xgrid crisp\" transform=\"translate(251.79,0)\" d=\"M0,100v306\" style=\"stroke: rgb(255, 255, 255); stroke-opacity: 1; stroke-width: 1px;\"/><path class=\"xgrid crisp\" transform=\"translate(266.11,0)\" d=\"M0,100v306\" style=\"stroke: rgb(255, 255, 255); stroke-opacity: 1; stroke-width: 1px;\"/><path class=\"xgrid crisp\" transform=\"translate(280.41999999999996,0)\" d=\"M0,100v306\" style=\"stroke: rgb(255, 255, 255); stroke-opacity: 1; stroke-width: 1px;\"/><path class=\"xgrid crisp\" transform=\"translate(294.74,0)\" d=\"M0,100v306\" style=\"stroke: rgb(255, 255, 255); stroke-opacity: 1; stroke-width: 1px;\"/><path class=\"xgrid crisp\" transform=\"translate(309.05,0)\" d=\"M0,100v306\" style=\"stroke: rgb(255, 255, 255); stroke-opacity: 1; stroke-width: 1px;\"/><path class=\"xgrid crisp\" transform=\"translate(323.37,0)\" d=\"M0,100v306\" style=\"stroke: rgb(255, 255, 255); stroke-opacity: 1; stroke-width: 1px;\"/><path class=\"xgrid crisp\" transform=\"translate(337.68,0)\" d=\"M0,100v306\" style=\"stroke: rgb(255, 255, 255); stroke-opacity: 1; stroke-width: 1px;\"/><path class=\"xgrid crisp\" transform=\"translate(352,0)\" d=\"M0,100v306\" style=\"stroke: rgb(255, 255, 255); stroke-opacity: 1; stroke-width: 1px;\"/><path class=\"xgrid crisp\" transform=\"translate(366.32,0)\" d=\"M0,100v306\" style=\"stroke: rgb(255, 255, 255); stroke-opacity: 1; stroke-width: 1px;\"/><path class=\"xgrid crisp\" transform=\"translate(380.63,0)\" d=\"M0,100v306\" style=\"stroke: rgb(255, 255, 255); stroke-opacity: 1; stroke-width: 1px;\"/><path class=\"xgrid crisp\" transform=\"translate(394.95,0)\" d=\"M0,100v306\" style=\"stroke: rgb(255, 255, 255); stroke-opacity: 1; stroke-width: 1px;\"/><path class=\"xgrid crisp\" transform=\"translate(409.26,0)\" d=\"M0,100v306\" style=\"stroke: rgb(255, 255, 255); stroke-opacity: 1; stroke-width: 1px;\"/></g><g class=\"y\"><path class=\"ygrid crisp\" transform=\"translate(0,328.68)\" d=\"M80,0h340\" style=\"stroke: rgb(255, 255, 255); stroke-opacity: 1; stroke-width: 1px;\"/><path class=\"ygrid crisp\" transform=\"translate(0,266.65999999999997)\" d=\"M80,0h340\" style=\"stroke: rgb(255, 255, 255); stroke-opacity: 1; stroke-width: 1px;\"/><path class=\"ygrid crisp\" transform=\"translate(0,204.65)\" d=\"M80,0h340\" style=\"stroke: rgb(255, 255, 255); stroke-opacity: 1; stroke-width: 1px;\"/><path class=\"ygrid crisp\" transform=\"translate(0,142.63)\" d=\"M80,0h340\" style=\"stroke: rgb(255, 255, 255); stroke-opacity: 1; stroke-width: 1px;\"/></g></g><g class=\"zerolinelayer\"><path class=\"yzl zl crisp\" transform=\"translate(0,390.7)\" d=\"M80,0h340\" style=\"stroke: rgb(255, 255, 255); stroke-opacity: 1; stroke-width: 2px;\"/></g><path class=\"xlines-below\"/><path class=\"ylines-below\"/><g class=\"overlines-below\"/><g class=\"xaxislayer-below\"/><g class=\"yaxislayer-below\"/><g class=\"overaxes-below\"/><g class=\"plot\" transform=\"translate(80,100)\" clip-path=\"url(#clip33aaa1xyplot)\"><g class=\"scatterlayer mlayer\"><g class=\"trace scatter traceddb1e3\" style=\"stroke-miterlimit: 2; opacity: 1;\"><g class=\"fills\"/><g class=\"errorbars\"/><g class=\"lines\"><path class=\"js-line\" d=\"M0,290.7L11.25,290.14L11.76,289.69L15.85,289.22L16.36,289.66L17.38,289.47L17.89,289.66L19.94,290.2L20.45,290.11L24.03,289.83L24.54,290.11L26.08,290.39L26.59,290.35L33.23,290.58L33.74,290.62L79.76,290.29L80.27,289.9L83.34,289.84L83.85,289.36L87.43,287L87.94,287.67L90.5,286.69L91.01,286.26L93.05,287.16L93.56,286.66L95.1,284.72L95.61,284.7L96.12,284.01L96.63,284.68L97.14,284.07L97.65,286.81L99.19,278.11L99.7,282.92L101.23,275.56L101.74,278.42L102.26,280.91L102.77,280.26L103.28,268.35L103.79,262.9L104.3,268.48L104.81,272.64L105.32,269.56L105.83,258.33L106.35,270.93L106.86,261.67L107.37,272.9L107.88,259.56L108.39,266.94L109.41,266.76L109.92,264.54L110.44,251.25L110.95,264.77L111.46,277.41L111.97,266.8L113.5,221.27L114.02,232.23L114.53,232.23L115.04,277.29L116.06,267.61L116.57,267.61L118.11,208.66L118.62,250.31L119.13,235.4L119.64,257.99L120.15,262.13L120.66,260.65L121.17,260.65L121.68,237.11L122.2,253.49L122.71,234.07L123.22,271.28L123.73,232.51L124.24,233.49L124.75,220.03L125.77,256.46L126.29,257.13L126.8,244.93L127.31,257.54L127.82,237.16L128.33,241.24L128.84,236.59L129.86,255.53L130.38,243.8L131.4,240.91L131.91,246.27L132.93,266.06L133.44,255.89L133.95,262.08L134.47,243.75L134.98,252.47L135.49,239.65L136.51,262.36L137.02,263.87L138.56,252.73L139.07,251.67L140.09,272.21L140.6,259.39L141.11,264.75L141.62,237.66L142.14,252.34L142.65,241.89L143.16,265.59L143.67,265.33L144.18,261.2L145.2,252.88L145.71,254.14L146.23,254.04L146.74,267.37L148.27,243.1L148.78,245.83L149.29,243.11L149.8,241.9L150.32,247.95L150.83,247.58L151.34,246.12L152.36,236.38L152.87,236.64L154.41,243.44L154.92,232.57L155.43,229.34L155.94,231.21L156.96,245.18L157.47,246.88L159.52,209.64L160.03,211.8L160.54,218.12L161.05,213.73L161.56,213.98L162.08,194.66L162.59,202.38L163.1,186L164.63,220.21L165.14,215.74L166.17,197.68L166.68,199.84L168.21,235.27L168.72,235.42L169.23,239.54L169.74,231.63L172.81,251.48L173.32,250.35L174.86,258.28L175.37,263.4L175.88,266.02L176.39,264.2L177.41,260.82L177.92,261.2L178.44,262.11L179.46,271.84L179.97,271.35L180.48,265.21L180.99,265.78L181.5,264.58L183.55,269.19L184.06,266.3L186.62,274L187.13,272.81L188.15,268.74L188.66,269.82L189.17,269.4L189.68,273.53L190.2,274.32L190.71,273.5L191.73,269.99L192.24,271.17L192.75,271.51L193.26,275.12L193.77,276.06L194.29,274.11L195.31,268.96L195.82,270.38L196.33,272.39L196.84,278.84L197.35,279.31L197.86,274.7L199.4,265.39L199.91,264.57L200.42,266.03L200.93,265.19L202.47,241.5L202.98,246.08L203.49,241.75L204,246.81L206.05,230.81L206.56,235.89L207.07,238.67L207.58,248.29L208.09,246.18L208.6,240.4L209.62,216.56L210.14,215.77L211.67,236.39L212.18,225.14L213.2,217.18L213.71,221.04L215.76,239.32L216.27,232.94L217.29,234.67L217.8,243.9L218.83,255.37L219.34,250.83L219.85,246.64L220.36,248.49L220.87,250.26L222.41,254.67L222.92,256.69L223.94,267.11L224.45,272.83L224.96,272.62L225.47,268.03L227.52,246.2L228.03,247.56L229.05,253.69L229.56,255.25L230.08,254.44L230.59,251.05L231.61,243.97L232.12,244.83L232.63,254.3L233.14,253.37L233.65,247.05L234.68,235.74L235.19,240.35L235.7,236.49L236.21,244.73L236.72,245.21L237.23,243.64L238.77,220.81L239.28,226.1L240.3,237.22L240.81,234.84L241.83,220.82L242.35,219.76L242.86,226.01L243.37,224.07L243.88,222.5L245.92,165.82L246.44,170.23L246.95,186.28L247.46,180.22L247.97,155.44L248.99,98.66L249.5,95.94L250.53,141.86L251.04,123.81L252.57,15.3L253.08,20.85L254.62,90.43L255.13,73.68L255.64,36.8L256.15,54.23L256.66,61.35L257.17,86.6L258.71,189.78L259.22,191.96L259.73,255.61L260.24,208.7L261.26,134.75L261.77,176.26L262.8,195.15L263.31,175.51L263.82,181.1L264.33,157.42L265.35,216.18L265.86,216.02L266.38,228.87L266.89,203.57L267.4,235.33L268.42,203.64L268.93,233.71L269.44,227.61L269.95,244.23L270.47,222.65L270.98,233.87L271.49,230.58L272,234.1L272.51,244.31L273.02,204L273.53,222.07L274.05,200.72L274.56,231.33L275.07,202.13L276.09,228.68L276.6,222.63L278.14,178.66L278.65,191.97L280.18,233.01L280.69,235.93L281.71,227.98L282.23,228.72L283.25,254.16L283.76,246.09L284.78,229.79L285.29,235.54L286.32,247.96L286.83,169.7L287.34,174.31L287.85,170.57L288.87,260.26L289.38,264.79L290.41,274.34L290.92,264.08L291.43,263.22L291.94,267.42L292.45,265.78L292.96,271.53L293.47,265.74L293.98,284.91L295.52,269.26L296.03,273.45L297.05,283.93L297.56,282.38L298.59,280.17L299.1,283.8L299.61,286L300.12,284.37L300.63,286.46L301.14,284.08L302.17,285.99L302.68,284.74L303.19,286.04L303.7,284.66L304.72,288.28L305.23,288.03L305.74,286.11L306.26,286.67L306.77,287.01L307.28,287.64L307.79,286.32L308.3,285.61L308.81,286.09L309.32,286.47L310.35,288.85L310.86,285.36L311.37,285.97L311.88,284.89L312.39,288.27L312.9,287.65L313.41,288.73L313.92,287.89L314.44,288.25L314.95,287.8L315.46,289.69L315.97,270.36L316.99,267.76L317.5,286.97L318.53,289.2L319.04,288.83L321.08,287.89L321.59,287.87L322.11,288.38L322.62,286.3L323.13,286.15L323.64,284.88L324.15,286.78L324.66,285.93L325.17,286.6L325.68,287.38L326.2,286.47L326.71,286.03L327.22,284.51L327.73,285.67L328.24,284.83L328.75,285.17L329.26,286.73L330.29,286.33L330.8,284.88L332.33,284.7L332.84,287.2L333.86,284.94L334.38,281.07L334.89,284.34L335.4,283.36L335.91,285.4L337.44,282.78L337.95,280.16L338.98,280.38L339.49,283.75L340,280.58\" style=\"vector-effect: non-scaling-stroke; fill: none; stroke: rgb(99, 110, 250); stroke-opacity: 1; stroke-width: 2px; opacity: 1;\"/></g><g class=\"points\"/><g class=\"text\"/></g></g></g><g class=\"overplot\"/><path class=\"xlines-above crisp\" d=\"M0,0\" style=\"fill: none;\"/><path class=\"ylines-above crisp\" d=\"M0,0\" style=\"fill: none;\"/><g class=\"overlines-above\"/><g class=\"xaxislayer-above\"><g class=\"xtick\"><text text-anchor=\"start\" x=\"0\" y=\"419\" transform=\"translate(80,0) rotate(90,0,413)\" style=\"font-family: 'Open Sans', verdana, arial, sans-serif; font-size: 12px; fill: rgb(42, 63, 95); fill-opacity: 1; white-space: pre; opacity: 1;\">3/2/20</text></g><g class=\"xtick\"><text text-anchor=\"start\" x=\"0\" y=\"419\" transform=\"translate(94.32,0) rotate(90,0,413)\" style=\"font-family: 'Open Sans', verdana, arial, sans-serif; font-size: 12px; fill: rgb(42, 63, 95); fill-opacity: 1; white-space: pre; opacity: 1;\">3/30/20</text></g><g class=\"xtick\"><text text-anchor=\"start\" x=\"0\" y=\"419\" transform=\"translate(108.63,0) rotate(90,0,413)\" style=\"font-family: 'Open Sans', verdana, arial, sans-serif; font-size: 12px; fill: rgb(42, 63, 95); fill-opacity: 1; white-space: pre; opacity: 1;\">4/27/20</text></g><g class=\"xtick\"><text text-anchor=\"start\" x=\"0\" y=\"419\" transform=\"translate(122.95,0) rotate(90,0,413)\" style=\"font-family: 'Open Sans', verdana, arial, sans-serif; font-size: 12px; fill: rgb(42, 63, 95); fill-opacity: 1; white-space: pre; opacity: 1;\">5/25/20</text></g><g class=\"xtick\"><text text-anchor=\"start\" x=\"0\" y=\"419\" transform=\"translate(137.26,0) rotate(90,0,413)\" style=\"font-family: 'Open Sans', verdana, arial, sans-serif; font-size: 12px; fill: rgb(42, 63, 95); fill-opacity: 1; white-space: pre; opacity: 1;\">6/22/20</text></g><g class=\"xtick\"><text text-anchor=\"start\" x=\"0\" y=\"419\" transform=\"translate(151.57999999999998,0) rotate(90,0,413)\" style=\"font-family: 'Open Sans', verdana, arial, sans-serif; font-size: 12px; fill: rgb(42, 63, 95); fill-opacity: 1; white-space: pre; opacity: 1;\">7/20/20</text></g><g class=\"xtick\"><text text-anchor=\"start\" x=\"0\" y=\"419\" transform=\"translate(165.89,0) rotate(90,0,413)\" style=\"font-family: 'Open Sans', verdana, arial, sans-serif; font-size: 12px; fill: rgb(42, 63, 95); fill-opacity: 1; white-space: pre; opacity: 1;\">8/17/20</text></g><g class=\"xtick\"><text text-anchor=\"start\" x=\"0\" y=\"419\" transform=\"translate(180.20999999999998,0) rotate(90,0,413)\" style=\"font-family: 'Open Sans', verdana, arial, sans-serif; font-size: 12px; fill: rgb(42, 63, 95); fill-opacity: 1; white-space: pre; opacity: 1;\">9/14/20</text></g><g class=\"xtick\"><text text-anchor=\"start\" x=\"0\" y=\"419\" transform=\"translate(194.53,0) rotate(90,0,413)\" style=\"font-family: 'Open Sans', verdana, arial, sans-serif; font-size: 12px; fill: rgb(42, 63, 95); fill-opacity: 1; white-space: pre; opacity: 1;\">10/12/20</text></g><g class=\"xtick\"><text text-anchor=\"start\" x=\"0\" y=\"419\" transform=\"translate(208.84,0) rotate(90,0,413)\" style=\"font-family: 'Open Sans', verdana, arial, sans-serif; font-size: 12px; fill: rgb(42, 63, 95); fill-opacity: 1; white-space: pre; opacity: 1;\">11/9/20</text></g><g class=\"xtick\"><text text-anchor=\"start\" x=\"0\" y=\"419\" transform=\"translate(223.16,0) rotate(90,0,413)\" style=\"font-family: 'Open Sans', verdana, arial, sans-serif; font-size: 12px; fill: rgb(42, 63, 95); fill-opacity: 1; white-space: pre; opacity: 1;\">12/7/20</text></g><g class=\"xtick\"><text text-anchor=\"start\" x=\"0\" y=\"419\" transform=\"translate(237.47,0) rotate(90,0,413)\" style=\"font-family: 'Open Sans', verdana, arial, sans-serif; font-size: 12px; fill: rgb(42, 63, 95); fill-opacity: 1; white-space: pre; opacity: 1;\">1/4/21</text></g><g class=\"xtick\"><text text-anchor=\"start\" x=\"0\" y=\"419\" transform=\"translate(251.79,0) rotate(90,0,413)\" style=\"font-family: 'Open Sans', verdana, arial, sans-serif; font-size: 12px; fill: rgb(42, 63, 95); fill-opacity: 1; white-space: pre; opacity: 1;\">2/1/21</text></g><g class=\"xtick\"><text text-anchor=\"start\" x=\"0\" y=\"419\" transform=\"translate(266.11,0) rotate(90,0,413)\" style=\"font-family: 'Open Sans', verdana, arial, sans-serif; font-size: 12px; fill: rgb(42, 63, 95); fill-opacity: 1; white-space: pre; opacity: 1;\">3/1/21</text></g><g class=\"xtick\"><text text-anchor=\"start\" x=\"0\" y=\"419\" transform=\"translate(280.41999999999996,0) rotate(90,0,413)\" style=\"font-family: 'Open Sans', verdana, arial, sans-serif; font-size: 12px; fill: rgb(42, 63, 95); fill-opacity: 1; white-space: pre; opacity: 1;\">3/29/21</text></g><g class=\"xtick\"><text text-anchor=\"start\" x=\"0\" y=\"419\" transform=\"translate(294.74,0) rotate(90,0,413)\" style=\"font-family: 'Open Sans', verdana, arial, sans-serif; font-size: 12px; fill: rgb(42, 63, 95); fill-opacity: 1; white-space: pre; opacity: 1;\">4/26/21</text></g><g class=\"xtick\"><text text-anchor=\"start\" x=\"0\" y=\"419\" transform=\"translate(309.05,0) rotate(90,0,413)\" style=\"font-family: 'Open Sans', verdana, arial, sans-serif; font-size: 12px; fill: rgb(42, 63, 95); fill-opacity: 1; white-space: pre; opacity: 1;\">5/24/21</text></g><g class=\"xtick\"><text text-anchor=\"start\" x=\"0\" y=\"419\" transform=\"translate(323.37,0) rotate(90,0,413)\" style=\"font-family: 'Open Sans', verdana, arial, sans-serif; font-size: 12px; fill: rgb(42, 63, 95); fill-opacity: 1; white-space: pre; opacity: 1;\">6/21/21</text></g><g class=\"xtick\"><text text-anchor=\"start\" x=\"0\" y=\"419\" transform=\"translate(337.68,0) rotate(90,0,413)\" style=\"font-family: 'Open Sans', verdana, arial, sans-serif; font-size: 12px; fill: rgb(42, 63, 95); fill-opacity: 1; white-space: pre; opacity: 1;\">7/19/21</text></g><g class=\"xtick\"><text text-anchor=\"start\" x=\"0\" y=\"419\" transform=\"translate(352,0) rotate(90,0,413)\" style=\"font-family: 'Open Sans', verdana, arial, sans-serif; font-size: 12px; fill: rgb(42, 63, 95); fill-opacity: 1; white-space: pre; opacity: 1;\">8/16/21</text></g><g class=\"xtick\"><text text-anchor=\"start\" x=\"0\" y=\"419\" transform=\"translate(366.32,0) rotate(90,0,413)\" style=\"font-family: 'Open Sans', verdana, arial, sans-serif; font-size: 12px; fill: rgb(42, 63, 95); fill-opacity: 1; white-space: pre; opacity: 1;\">9/13/21</text></g><g class=\"xtick\"><text text-anchor=\"start\" x=\"0\" y=\"419\" transform=\"translate(380.63,0) rotate(90,0,413)\" style=\"font-family: 'Open Sans', verdana, arial, sans-serif; font-size: 12px; fill: rgb(42, 63, 95); fill-opacity: 1; white-space: pre; opacity: 1;\">10/11/21</text></g><g class=\"xtick\"><text text-anchor=\"start\" x=\"0\" y=\"419\" transform=\"translate(394.95,0) rotate(90,0,413)\" style=\"font-family: 'Open Sans', verdana, arial, sans-serif; font-size: 12px; fill: rgb(42, 63, 95); fill-opacity: 1; white-space: pre; opacity: 1;\">11/8/21</text></g><g class=\"xtick\"><text text-anchor=\"start\" x=\"0\" y=\"419\" transform=\"translate(409.26,0) rotate(90,0,413)\" style=\"font-family: 'Open Sans', verdana, arial, sans-serif; font-size: 12px; fill: rgb(42, 63, 95); fill-opacity: 1; white-space: pre; opacity: 1;\">12/6/21</text></g></g><g class=\"yaxislayer-above\"><g class=\"ytick\"><text text-anchor=\"end\" x=\"79\" y=\"4.199999999999999\" transform=\"translate(0,390.7)\" style=\"font-family: 'Open Sans', verdana, arial, sans-serif; font-size: 12px; fill: rgb(42, 63, 95); fill-opacity: 1; white-space: pre; opacity: 1;\">0</text></g><g class=\"ytick\"><text text-anchor=\"end\" x=\"79\" y=\"4.199999999999999\" style=\"font-family: 'Open Sans', verdana, arial, sans-serif; font-size: 12px; fill: rgb(42, 63, 95); fill-opacity: 1; white-space: pre; opacity: 1;\" transform=\"translate(0,328.68)\">2000</text></g><g class=\"ytick\"><text text-anchor=\"end\" x=\"79\" y=\"4.199999999999999\" style=\"font-family: 'Open Sans', verdana, arial, sans-serif; font-size: 12px; fill: rgb(42, 63, 95); fill-opacity: 1; white-space: pre; opacity: 1;\" transform=\"translate(0,266.65999999999997)\">4000</text></g><g class=\"ytick\"><text text-anchor=\"end\" x=\"79\" y=\"4.199999999999999\" style=\"font-family: 'Open Sans', verdana, arial, sans-serif; font-size: 12px; fill: rgb(42, 63, 95); fill-opacity: 1; white-space: pre; opacity: 1;\" transform=\"translate(0,204.65)\">6000</text></g><g class=\"ytick\"><text text-anchor=\"end\" x=\"79\" y=\"4.199999999999999\" style=\"font-family: 'Open Sans', verdana, arial, sans-serif; font-size: 12px; fill: rgb(42, 63, 95); fill-opacity: 1; white-space: pre; opacity: 1;\" transform=\"translate(0,142.63)\">8000</text></g></g><g class=\"overaxes-above\"/></g></g><g class=\"polarlayer\"/><g class=\"smithlayer\"/><g class=\"ternarylayer\"/><g class=\"geolayer\"/><g class=\"funnelarealayer\"/><g class=\"pielayer\"/><g class=\"iciclelayer\"/><g class=\"treemaplayer\"/><g class=\"sunburstlayer\"/><g class=\"glimages\"/><defs id=\"topdefs-33aaa1\"><g class=\"clips\"/></defs><g class=\"layer-above\"><g class=\"imagelayer\"/><g class=\"shapelayer\"/></g><g class=\"infolayer\"><g class=\"g-gtitle\"><text class=\"gtitle\" x=\"250\" y=\"50\" text-anchor=\"middle\" dy=\"0em\" style=\"font-family: 'Open Sans', verdana, arial, sans-serif; font-size: 17px; fill: rgb(42, 63, 95); opacity: 1; font-weight: normal; white-space: pre;\">Daily confirmed cases trend for Tunisia</text></g><g class=\"g-xtitle\"><text class=\"xtitle\" x=\"250\" y=\"487.925\" text-anchor=\"middle\" style=\"font-family: 'Open Sans', verdana, arial, sans-serif; font-size: 14px; fill: rgb(42, 63, 95); opacity: 1; font-weight: normal; white-space: pre;\">index</text></g><g class=\"g-ytitle\"><text class=\"ytitle\" transform=\"rotate(-90,25.746875000000003,253)\" x=\"25.746875000000003\" y=\"253\" text-anchor=\"middle\" style=\"font-family: 'Open Sans', verdana, arial, sans-serif; font-size: 14px; fill: rgb(42, 63, 95); opacity: 1; font-weight: normal; white-space: pre;\">Total</text></g></g></svg>"
      ]
     },
     "metadata": {},
     "output_type": "display_data"
    }
   ],
   "source": [
    "fig = px.line(df, y='Total', x=df.index, title='Daily confirmed cases trend for Tunisia',width=500)\n",
    "fig.update_layout(title_x=0.5)\n",
    "fig.show(\"svg\") #scalable vector graphics\n",
    "#fig.show(\"png\") #Portable Network graphics"
   ]
  },
  {
   "cell_type": "code",
   "execution_count": 27,
   "metadata": {},
   "outputs": [],
   "source": [
    "pio.renderers.default = \"browser\"\n",
    "fig = px.line(df, y='Total', x=df.index, title='Daily confirmed cases trend')\n",
    "fig.update_layout(title_x=0.5)\n",
    "fig.show()"
   ]
  },
  {
   "cell_type": "code",
   "execution_count": null,
   "metadata": {},
   "outputs": [],
   "source": []
  }
 ],
 "metadata": {
  "kernelspec": {
   "display_name": "Python 3",
   "language": "python",
   "name": "python3"
  },
  "language_info": {
   "codemirror_mode": {
    "name": "ipython",
    "version": 3
   },
   "file_extension": ".py",
   "mimetype": "text/x-python",
   "name": "python",
   "nbconvert_exporter": "python",
   "pygments_lexer": "ipython3",
   "version": "3.8.8"
  }
 },
 "nbformat": 4,
 "nbformat_minor": 4
}
