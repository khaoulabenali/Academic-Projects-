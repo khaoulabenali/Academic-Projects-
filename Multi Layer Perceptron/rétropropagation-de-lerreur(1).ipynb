{
 "cells": [
  {
   "cell_type": "code",
   "execution_count": 1,
   "metadata": {},
   "outputs": [],
   "source": [
    "import numpy as np"
   ]
  },
  {
   "cell_type": "code",
   "execution_count": 2,
   "metadata": {},
   "outputs": [],
   "source": [
    "epsilon=10**-2\n",
    "lr= 10**-2\n",
    "X=np.array([1,2,3])\n",
    "X=X.reshape(-1,1)\n",
    "t=np.array([0.1,0.3,0.7])\n",
    "t=t.reshape(-1,1)\n",
    "W=np.matrix('0.5,0.3,0.1; 0.3,0.2,0.1')\n",
    "Z=np.matrix('0.1,0.2; 0.3,0.4;0.5,0.6')\n"
   ]
  },
  {
   "cell_type": "code",
   "execution_count": 3,
   "metadata": {},
   "outputs": [],
   "source": [
    "f=lambda x:1/(1+np.exp(-x))\n",
    "f_vec = np.vectorize(f)"
   ]
  },
  {
   "cell_type": "code",
   "execution_count": 4,
   "metadata": {},
   "outputs": [],
   "source": [
    "def forward_propagation_1layer(X,W,Z,f,t):\n",
    "    b=np.dot(W,X)\n",
    "    h= f_vec(b)\n",
    "    a=np.dot(Z,h)\n",
    "    o=f_vec(a)\n",
    "    e=np.subtract(t,o)\n",
    "    print(e.shape)\n",
    "    return(b,e,o,t,h)\n",
    "\n",
    "    "
   ]
  },
  {
   "cell_type": "code",
   "execution_count": 5,
   "metadata": {},
   "outputs": [],
   "source": [
    "def backpropagation_1layer(e,o,t,Z,W,lr,h):\n",
    "    delta_out= np.kron(np.kron(o,(1-o)),e)[0:3]\n",
    "    print(delta_out)\n",
    "    print(h.shape)\n",
    "    Z=Z+np.dot(lr,np.dot(delta_out,np.transpose(h)))\n",
    "    print(Z)\n",
    "    delta_hidden=np.kron(np.kron(h,(1-h)),np.dot(np.transpose(Z),delta_out))[0:2]\n",
    "    print(delta_hidden)\n",
    "    W=W+np.dot(lr,np.dot(delta_hidden,np.transpose(X)))\n",
    "    return(Z,W)"
   ]
  },
  {
   "cell_type": "code",
   "execution_count": 6,
   "metadata": {},
   "outputs": [
    {
     "name": "stdout",
     "output_type": "stream",
     "text": [
      "(2, 3)\n"
     ]
    }
   ],
   "source": [
    "print(W.shape)"
   ]
  },
  {
   "cell_type": "code",
   "execution_count": 7,
   "metadata": {},
   "outputs": [
    {
     "name": "stdout",
     "output_type": "stream",
     "text": [
      "(3, 1)\n"
     ]
    }
   ],
   "source": [
    "print(X.shape)"
   ]
  },
  {
   "cell_type": "code",
   "execution_count": 8,
   "metadata": {},
   "outputs": [
    {
     "name": "stdout",
     "output_type": "stream",
     "text": [
      "(3, 1)\n",
      "[[-0.11264174]\n",
      " [-0.08150109]\n",
      " [ 0.00039301]]\n",
      "(2, 1)\n",
      "[[0.09909641 0.19917652]\n",
      " [0.29934621 0.39940418]\n",
      " [0.50000315 0.60000287]]\n",
      "[[-0.00561156]\n",
      " [-0.00868826]]\n"
     ]
    }
   ],
   "source": [
    "b,e,o,t,h=forward_propagation_1layer(X,W,Z,f,t)\n",
    "\n",
    "Z,W=backpropagation_1layer(e,o,t,Z,W,lr,h)"
   ]
  },
  {
   "cell_type": "code",
   "execution_count": null,
   "metadata": {},
   "outputs": [],
   "source": []
  },
  {
   "cell_type": "code",
   "execution_count": null,
   "metadata": {},
   "outputs": [],
   "source": []
  }
 ],
 "metadata": {
  "kernelspec": {
   "display_name": "Python 3",
   "language": "python",
   "name": "python3"
  },
  "language_info": {
   "codemirror_mode": {
    "name": "ipython",
    "version": 3
   },
   "file_extension": ".py",
   "mimetype": "text/x-python",
   "name": "python",
   "nbconvert_exporter": "python",
   "pygments_lexer": "ipython3",
   "version": "3.8.8"
  }
 },
 "nbformat": 4,
 "nbformat_minor": 4
}
